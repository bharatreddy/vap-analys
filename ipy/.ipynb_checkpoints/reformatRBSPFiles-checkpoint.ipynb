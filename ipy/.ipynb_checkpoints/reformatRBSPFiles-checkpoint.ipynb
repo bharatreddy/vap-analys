{
 "cells": [
  {
   "cell_type": "code",
   "execution_count": 1,
   "metadata": {
    "collapsed": true
   },
   "outputs": [],
   "source": [
    "import pandas\n",
    "import datetime\n",
    "import os"
   ]
  },
  {
   "cell_type": "code",
   "execution_count": 2,
   "metadata": {
    "collapsed": false
   },
   "outputs": [
    {
     "name": "stdout",
     "output_type": "stream",
     "text": [
      "currently working with--> ../data/rbsp_iono_satB.txt\n",
      "currently working with--> ../data/rbsp_iono_satA.txt\n"
     ]
    }
   ],
   "source": [
    "baseDir = \"../data/\"\n",
    "# Loop through the directory and get all files\n",
    "for root, dirs, files in os.walk(baseDir):\n",
    "    for fName in files:\n",
    "        print \"currently working with-->\", root + fName\n",
    "        cntErr = 0\n",
    "        lineList = []\n",
    "        with open(root + fName) as f:\n",
    "            lines = f.readlines()\n",
    "            for line in lines:\n",
    "                words = line.split(\" \")\n",
    "                if  ( len(words) != 9 ) :\n",
    "                    cntErr += 1\n",
    "                    newWordList = []\n",
    "                    for w in words:\n",
    "                        currWord = w.split(\"-\")\n",
    "                        if ( (len( currWord ) > 1 ) & (currWord[0] != \"\") ):\n",
    "                            newWordList.append( currWord[0] )\n",
    "                            newWordList.append( \"-\" + currWord[1] )\n",
    "                        else:\n",
    "                            if currWord[0] != \"\":\n",
    "                                newWordList.append( currWord[0] )\n",
    "                            else:\n",
    "                                for nc, j in enumerate(currWord):\n",
    "                                    if nc > 0:\n",
    "                                        newWordList.append( \"-\" + j )\n",
    "                    editedLine = \" \".join(newWordList)\n",
    "                    lineList.append( editedLine )\n",
    "                else:\n",
    "                    lineList.append( line )\n",
    "        f.close()\n",
    "        newFileOut = root+fName+\".tmp\"\n",
    "        fo = open(newFileOut, \"w+\")\n",
    "        fo.writelines( lineList )\n",
    "        fo.close()\n",
    "        # Now move the temp file to the formatted one!\n",
    "        os.rename( newFileOut, root+fName )"
   ]
  },
  {
   "cell_type": "code",
   "execution_count": 7,
   "metadata": {
    "collapsed": false
   },
   "outputs": [
    {
     "data": {
      "text/html": [
       "<div>\n",
       "<table border=\"1\" class=\"dataframe\">\n",
       "  <thead>\n",
       "    <tr style=\"text-align: right;\">\n",
       "      <th></th>\n",
       "      <th>0</th>\n",
       "      <th>1</th>\n",
       "      <th>2</th>\n",
       "      <th>3</th>\n",
       "      <th>4</th>\n",
       "      <th>5</th>\n",
       "      <th>6</th>\n",
       "      <th>7</th>\n",
       "      <th>8</th>\n",
       "    </tr>\n",
       "  </thead>\n",
       "  <tbody>\n",
       "    <tr>\n",
       "      <th>0</th>\n",
       "      <td>20120901</td>\n",
       "      <td>0</td>\n",
       "      <td>60.4318</td>\n",
       "      <td>175.1409</td>\n",
       "      <td>6.965</td>\n",
       "      <td>-61.0936</td>\n",
       "      <td>174.907</td>\n",
       "      <td>6.9494</td>\n",
       "      <td>SatA</td>\n",
       "    </tr>\n",
       "    <tr>\n",
       "      <th>1</th>\n",
       "      <td>20120901</td>\n",
       "      <td>1</td>\n",
       "      <td>60.4748</td>\n",
       "      <td>175.1404</td>\n",
       "      <td>6.9808</td>\n",
       "      <td>-61.1292</td>\n",
       "      <td>174.905</td>\n",
       "      <td>6.9651</td>\n",
       "      <td>SatA</td>\n",
       "    </tr>\n",
       "    <tr>\n",
       "      <th>2</th>\n",
       "      <td>20120901</td>\n",
       "      <td>2</td>\n",
       "      <td>60.5249</td>\n",
       "      <td>175.1412</td>\n",
       "      <td>6.997</td>\n",
       "      <td>-61.1923</td>\n",
       "      <td>174.911</td>\n",
       "      <td>6.9816</td>\n",
       "      <td>SatA</td>\n",
       "    </tr>\n",
       "    <tr>\n",
       "      <th>3</th>\n",
       "      <td>20120901</td>\n",
       "      <td>3</td>\n",
       "      <td>60.5654</td>\n",
       "      <td>175.0439</td>\n",
       "      <td>7.0066</td>\n",
       "      <td>-61.2283</td>\n",
       "      <td>174.809</td>\n",
       "      <td>6.9909</td>\n",
       "      <td>SatA</td>\n",
       "    </tr>\n",
       "    <tr>\n",
       "      <th>4</th>\n",
       "      <td>20120901</td>\n",
       "      <td>4</td>\n",
       "      <td>60.6031</td>\n",
       "      <td>175.0506</td>\n",
       "      <td>7.0237</td>\n",
       "      <td>-61.2637</td>\n",
       "      <td>174.806</td>\n",
       "      <td>7.0075</td>\n",
       "      <td>SatA</td>\n",
       "    </tr>\n",
       "  </tbody>\n",
       "</table>\n",
       "</div>"
      ],
      "text/plain": [
       "          0  1        2         3       4        5        6       7     8\n",
       "0  20120901  0  60.4318  175.1409   6.965 -61.0936  174.907  6.9494  SatA\n",
       "1  20120901  1  60.4748  175.1404  6.9808 -61.1292  174.905  6.9651  SatA\n",
       "2  20120901  2  60.5249  175.1412   6.997 -61.1923  174.911  6.9816  SatA\n",
       "3  20120901  3  60.5654  175.0439  7.0066 -61.2283  174.809  6.9909  SatA\n",
       "4  20120901  4  60.6031  175.0506  7.0237 -61.2637  174.806  7.0075  SatA"
      ]
     },
     "execution_count": 7,
     "metadata": {},
     "output_type": "execute_result"
    }
   ],
   "source": []
  },
  {
   "cell_type": "code",
   "execution_count": null,
   "metadata": {
    "collapsed": true
   },
   "outputs": [],
   "source": []
  }
 ],
 "metadata": {
  "kernelspec": {
   "display_name": "Python 2",
   "language": "python",
   "name": "python2"
  },
  "language_info": {
   "codemirror_mode": {
    "name": "ipython",
    "version": 2
   },
   "file_extension": ".py",
   "mimetype": "text/x-python",
   "name": "python",
   "nbconvert_exporter": "python",
   "pygments_lexer": "ipython2",
   "version": "2.7.6"
  }
 },
 "nbformat": 4,
 "nbformat_minor": 1
}
