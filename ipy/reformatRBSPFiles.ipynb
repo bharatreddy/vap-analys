{
 "cells": [
  {
   "cell_type": "code",
   "execution_count": 1,
   "metadata": {
    "collapsed": true
   },
   "outputs": [],
   "source": [
    "import pandas\n",
    "import datetime\n",
    "import os"
   ]
  },
  {
   "cell_type": "code",
   "execution_count": 8,
   "metadata": {
    "collapsed": false
   },
   "outputs": [
    {
     "name": "stdout",
     "output_type": "stream",
     "text": [
      "currently working with--> ../data/rbsp_iono_satB.txt\n",
      "currently working with--> ../data/rbsp_iono_satA.txt\n"
     ]
    }
   ],
   "source": [
    "baseDir = \"../data/\"\n",
    "# Loop through the directory and get all files\n",
    "for root, dirs, files in os.walk(baseDir):\n",
    "    for fName in files:\n",
    "        print \"currently working with-->\", root + fName\n",
    "        if \"rbsp\" not in fName:\n",
    "            continue\n",
    "        cntErr = 0\n",
    "        lineList = []\n",
    "        with open(root + fName) as f:\n",
    "            lines = f.readlines()\n",
    "            for line in lines:\n",
    "                words = line.split(\" \")\n",
    "                # Now some of words are showing up with empty strings\n",
    "                # and these are leading to 9 elements! even though there\n",
    "                # aren't so many elements, example below\n",
    "                # ['20140929', '2258', '-10.2240-124.3066', '',\n",
    "                # '10.0252', '-16.9433-124.2027', '', '10.0321', 'SatA\\n']\n",
    "                # so remove blank strings\n",
    "                words = filter( None, words )\n",
    "                if  ( len(words) != 9 ) :\n",
    "                    cntErr += 1\n",
    "                    newWordList = []\n",
    "                    for w in words:\n",
    "                        currWord = w.split(\"-\")\n",
    "                        if ( (len( currWord ) > 1 ) & (currWord[0] != \"\") ):\n",
    "                            newWordList.append( currWord[0] )\n",
    "                            newWordList.append( \"-\" + currWord[1] )\n",
    "                        else:\n",
    "                            if currWord[0] != \"\":\n",
    "                                newWordList.append( currWord[0] )\n",
    "                            else:\n",
    "                                for nc, j in enumerate(currWord):\n",
    "                                    if nc > 0:\n",
    "                                        newWordList.append( \"-\" + j )\n",
    "                    editedLine = \" \".join(newWordList)\n",
    "                    lineList.append( editedLine )\n",
    "                else:\n",
    "                    lineList.append( line )\n",
    "        f.close()\n",
    "        newFileOut = root+fName+\".tmp\"\n",
    "        fo = open(newFileOut, \"w+\")\n",
    "        fo.writelines( lineList )\n",
    "        fo.close()\n",
    "        # Now move the temp file to the formatted one!\n",
    "        os.rename( newFileOut, root+fName )"
   ]
  },
  {
   "cell_type": "code",
   "execution_count": 7,
   "metadata": {
    "collapsed": false
   },
   "outputs": [
    {
     "name": "stdout",
     "output_type": "stream",
     "text": [
      "['aa', 'bb', 'cc']\n"
     ]
    }
   ],
   "source": [
    "a = [\"aa\", \"bb\", \"\", \"cc\"]\n",
    "a = filter( None, a )\n",
    "print a"
   ]
  },
  {
   "cell_type": "code",
   "execution_count": null,
   "metadata": {
    "collapsed": true
   },
   "outputs": [],
   "source": []
  }
 ],
 "metadata": {
  "kernelspec": {
   "display_name": "Python 2",
   "language": "python",
   "name": "python2"
  },
  "language_info": {
   "codemirror_mode": {
    "name": "ipython",
    "version": 2
   },
   "file_extension": ".py",
   "mimetype": "text/x-python",
   "name": "python",
   "nbconvert_exporter": "python",
   "pygments_lexer": "ipython2",
   "version": "2.7.6"
  }
 },
 "nbformat": 4,
 "nbformat_minor": 1
}
