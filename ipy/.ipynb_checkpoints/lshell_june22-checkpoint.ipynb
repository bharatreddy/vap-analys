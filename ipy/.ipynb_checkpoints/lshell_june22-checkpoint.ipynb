{
 "cells": [
  {
   "cell_type": "code",
   "execution_count": 1,
   "metadata": {
    "collapsed": true
   },
   "outputs": [],
   "source": [
    "import pandas\n",
    "import datetime\n",
    "import numpy\n",
    "import os"
   ]
  },
  {
   "cell_type": "code",
   "execution_count": 2,
   "metadata": {
    "collapsed": false
   },
   "outputs": [
    {
     "data": {
      "text/html": [
       "<div style=\"max-height:1000px;max-width:1500px;overflow:auto;\">\n",
       "<table border=\"1\" class=\"dataframe\">\n",
       "  <thead>\n",
       "    <tr style=\"text-align: right;\">\n",
       "      <th></th>\n",
       "      <th>dateStr</th>\n",
       "      <th>timeStr</th>\n",
       "      <th>beam</th>\n",
       "      <th>range</th>\n",
       "      <th>azim</th>\n",
       "      <th>Vlos</th>\n",
       "      <th>MLAT</th>\n",
       "      <th>MLON</th>\n",
       "      <th>MLT</th>\n",
       "      <th>radId</th>\n",
       "      <th>radCode</th>\n",
       "      <th>date</th>\n",
       "      <th>normMLT</th>\n",
       "    </tr>\n",
       "  </thead>\n",
       "  <tbody>\n",
       "    <tr>\n",
       "      <th>0</th>\n",
       "      <td> 20130622</td>\n",
       "      <td> 600</td>\n",
       "      <td> 5</td>\n",
       "      <td> 21</td>\n",
       "      <td> 14.84</td>\n",
       "      <td> 53.7603</td>\n",
       "      <td> 57.4511</td>\n",
       "      <td> 6.3163</td>\n",
       "      <td> 1.5622</td>\n",
       "      <td> 32</td>\n",
       "      <td> wal</td>\n",
       "      <td>2013-06-22 06:00:00</td>\n",
       "      <td> 1.5622</td>\n",
       "    </tr>\n",
       "    <tr>\n",
       "      <th>1</th>\n",
       "      <td> 20130622</td>\n",
       "      <td> 600</td>\n",
       "      <td> 5</td>\n",
       "      <td> 22</td>\n",
       "      <td> 14.84</td>\n",
       "      <td> 58.5754</td>\n",
       "      <td> 57.7950</td>\n",
       "      <td> 6.6224</td>\n",
       "      <td> 1.5826</td>\n",
       "      <td> 32</td>\n",
       "      <td> wal</td>\n",
       "      <td>2013-06-22 06:00:00</td>\n",
       "      <td> 1.5826</td>\n",
       "    </tr>\n",
       "    <tr>\n",
       "      <th>2</th>\n",
       "      <td> 20130622</td>\n",
       "      <td> 600</td>\n",
       "      <td> 5</td>\n",
       "      <td> 23</td>\n",
       "      <td> 14.84</td>\n",
       "      <td> 63.0660</td>\n",
       "      <td> 58.1377</td>\n",
       "      <td> 6.9311</td>\n",
       "      <td> 1.6031</td>\n",
       "      <td> 32</td>\n",
       "      <td> wal</td>\n",
       "      <td>2013-06-22 06:00:00</td>\n",
       "      <td> 1.6031</td>\n",
       "    </tr>\n",
       "    <tr>\n",
       "      <th>3</th>\n",
       "      <td> 20130622</td>\n",
       "      <td> 600</td>\n",
       "      <td> 5</td>\n",
       "      <td> 24</td>\n",
       "      <td> 14.84</td>\n",
       "      <td> 73.4261</td>\n",
       "      <td> 58.4793</td>\n",
       "      <td> 7.2427</td>\n",
       "      <td> 1.6239</td>\n",
       "      <td> 32</td>\n",
       "      <td> wal</td>\n",
       "      <td>2013-06-22 06:00:00</td>\n",
       "      <td> 1.6239</td>\n",
       "    </tr>\n",
       "    <tr>\n",
       "      <th>4</th>\n",
       "      <td> 20130622</td>\n",
       "      <td> 600</td>\n",
       "      <td> 5</td>\n",
       "      <td> 25</td>\n",
       "      <td> 14.84</td>\n",
       "      <td> 84.7711</td>\n",
       "      <td> 58.8199</td>\n",
       "      <td> 7.5576</td>\n",
       "      <td> 1.6449</td>\n",
       "      <td> 32</td>\n",
       "      <td> wal</td>\n",
       "      <td>2013-06-22 06:00:00</td>\n",
       "      <td> 1.6449</td>\n",
       "    </tr>\n",
       "  </tbody>\n",
       "</table>\n",
       "</div>"
      ],
      "text/plain": [
       "    dateStr  timeStr  beam  range   azim     Vlos     MLAT    MLON     MLT  \\\n",
       "0  20130622      600     5     21  14.84  53.7603  57.4511  6.3163  1.5622   \n",
       "1  20130622      600     5     22  14.84  58.5754  57.7950  6.6224  1.5826   \n",
       "2  20130622      600     5     23  14.84  63.0660  58.1377  6.9311  1.6031   \n",
       "3  20130622      600     5     24  14.84  73.4261  58.4793  7.2427  1.6239   \n",
       "4  20130622      600     5     25  14.84  84.7711  58.8199  7.5576  1.6449   \n",
       "\n",
       "   radId radCode                date  normMLT  \n",
       "0     32     wal 2013-06-22 06:00:00   1.5622  \n",
       "1     32     wal 2013-06-22 06:00:00   1.5826  \n",
       "2     32     wal 2013-06-22 06:00:00   1.6031  \n",
       "3     32     wal 2013-06-22 06:00:00   1.6239  \n",
       "4     32     wal 2013-06-22 06:00:00   1.6449  "
      ]
     },
     "execution_count": 2,
     "metadata": {},
     "output_type": "execute_result"
    }
   ],
   "source": [
    "#### In this block we load Velocity data ####\n",
    "#### In this block we load Velocity data ####\n",
    "#### In this block we load Velocity data ####\n",
    "# file with velocities\n",
    "rawVelFileName = \"../data/saps-vels-20130622.txt\"\n",
    "# need to format the file appropritely, before we can read it\n",
    "outFormattedFile = \"../data/formatted-vels-20130622.txt\"\n",
    "# os.system( 'cat ' + rawVelFileName + ' | tr -s \"  \" > ' + outFormattedFile )\n",
    "inpColNames = [ \"dateStr\", \"timeStr\", \"beam\", \"range\", \\\n",
    "          \"azim\", \"Vlos\", \"MLAT\", \"MLON\", \"MLT\", \"radId\", \\\n",
    "          \"radCode\"]\n",
    "velsDataDF = pandas.read_csv(outFormattedFile, sep=' ',\\\n",
    "                             header=None, names=inpColNames)\n",
    "# add a datetime col\n",
    "velsDataDF[\"date\"] = pandas.to_datetime( \\\n",
    "                        velsDataDF['dateStr'].astype(str) + \"-\" +\\\n",
    "                        velsDataDF['timeStr'].astype(str), format='%Y%m%d-%H%M')\n",
    "# for some reason MLAT is a str type, convert it to float\n",
    "velsDataDF[\"MLAT\"] = velsDataDF[\"MLAT\"].astype(float)\n",
    "# Also get a normMLT for plotting\n",
    "velsDataDF['normMLT'] = [x-24 if x >= 12 else x for x in velsDataDF['MLT']]\n",
    "velsDataDF.head()\n",
    "#### In this block we load SAPS Velocity data ####\n",
    "#### In this block we load SAPS Velocity data ####\n",
    "#### In this block we load SAPS Velocity data ####"
   ]
  },
  {
   "cell_type": "code",
   "execution_count": 3,
   "metadata": {
    "collapsed": true
   },
   "outputs": [],
   "source": [
    "selRadPair = [ \"cve\", \"cvw\" ]"
   ]
  },
  {
   "cell_type": "code",
   "execution_count": 6,
   "metadata": {
    "collapsed": false
   },
   "outputs": [
    {
     "data": {
      "text/plain": [
       "array(['wal', 'bks', 'fhw', 'fhe', 'cvw', 'cve'], dtype=object)"
      ]
     },
     "execution_count": 6,
     "metadata": {},
     "output_type": "execute_result"
    }
   ],
   "source": [
    "\n",
    "velsDataDF[\"radCode\"].unique()"
   ]
  },
  {
   "cell_type": "code",
   "execution_count": 5,
   "metadata": {
    "collapsed": false
   },
   "outputs": [
    {
     "data": {
      "text/plain": [
       "(143697, 13)"
      ]
     },
     "execution_count": 5,
     "metadata": {},
     "output_type": "execute_result"
    }
   ],
   "source": [
    "velsDataDF.shape"
   ]
  },
  {
   "cell_type": "code",
   "execution_count": null,
   "metadata": {
    "collapsed": true
   },
   "outputs": [],
   "source": []
  }
 ],
 "metadata": {
  "kernelspec": {
   "display_name": "Python 2",
   "language": "python",
   "name": "python2"
  },
  "language_info": {
   "codemirror_mode": {
    "name": "ipython",
    "version": 2
   },
   "file_extension": ".py",
   "mimetype": "text/x-python",
   "name": "python",
   "nbconvert_exporter": "python",
   "pygments_lexer": "ipython2",
   "version": "2.7.9"
  }
 },
 "nbformat": 4,
 "nbformat_minor": 1
}
