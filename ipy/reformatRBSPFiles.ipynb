{
 "cells": [
  {
   "cell_type": "code",
   "execution_count": 1,
   "metadata": {
    "collapsed": true
   },
   "outputs": [],
   "source": [
    "import pandas\n",
    "import datetime\n",
    "import os"
   ]
  },
  {
   "cell_type": "code",
   "execution_count": 2,
   "metadata": {
    "collapsed": false
   },
   "outputs": [
    {
     "name": "stdout",
     "output_type": "stream",
     "text": [
      "currently working with--> ../data/.DS_Store\n",
      "currently working with--> ../data/event-saps-vels-20130622.txt\n",
      "currently working with--> ../data/final_results-mar16.txt\n",
      "currently working with--> ../data/final_results_test.txt\n",
      "currently working with--> ../data/fitted_vels_jun22.txt\n",
      "currently working with--> ../data/fitVelDataFpRbsp-20130622.txt\n",
      "currently working with--> ../data/formatted-vels-20130622.txt\n",
      "currently working with--> ../data/frmtd-saps-vels-20130316.txt\n",
      "currently working with--> ../data/mar16-fit-rbspA.txt\n",
      "currently working with--> ../data/mar16-fit-rbspB.txt\n",
      "currently working with--> ../data/processedSaps-rbsp.txt\n",
      "currently working with--> ../data/rawsaps-north-2011-2014.txt\n",
      "currently working with--> ../data/rbsp_iono_satA-old-wrong.txt\n",
      "currently working with--> ../data/rbsp_iono_satA.txt\n",
      "currently working with--> ../data/rbsp_iono_satB-old-wrong.txt\n",
      "currently working with--> ../data/rbsp_iono_satB.txt\n",
      "currently working with--> ../data/rbsp_satA_conj.txt\n",
      "currently working with--> ../data/rbsp_satB_conj.txt\n",
      "currently working with--> ../data/rbspFp.dat\n",
      "currently working with--> ../data/saps-vels-20130321.txt\n",
      "currently working with--> ../data/saps-vels-20130521.txt\n",
      "currently working with--> ../data/saps-vels-20130622.txt\n",
      "currently working with--> ../data/westWards-mar16.txt\n",
      "currently working with--> ../data/20130321geomagcndtns-1hour.jpg\n",
      "currently working with--> ../data/20130321geomagcndtns-24hour.jpg\n",
      "currently working with--> ../data/20130321geomagn-cndtns-1hr.ps\n",
      "currently working with--> ../data/20130321geomagn-cndtns-24hr.ps\n",
      "currently working with--> ../data/SAIS_SAPS.DS_Store\n",
      "currently working with--> ../data/SAIS_SAPS/selected_SAISSAIS_plot_A_20121012.png\n",
      "currently working with--> ../data/SAIS_SAPS/selected_SAISSAIS_plot_A_20121230.png\n",
      "currently working with--> ../data/SAIS_SAPS/selected_SAISSAIS_plot_A_20121231.png\n",
      "currently working with--> ../data/SAIS_SAPS/selected_SAISSAIS_plot_B_20121213.png\n",
      "currently working with--> ../data/SAIS_SAPS/selected_SAISSAIS_plot_B_20121216.png\n",
      "currently working with--> ../data/SAIS_SAPS/selected_SAISSAIS_plot_B_20121230.png\n",
      "currently working with--> ../data/SAIS_SAPS/selected_SAPSplot_A_20130321.png\n",
      "currently working with--> ../data/SAIS_SAPS/selected_SAPSplot_A_20130622.png\n",
      "currently working with--> ../data/SAIS_SAPS/selected_SAPSplot_A_20130623.png\n",
      "currently working with--> ../data/SAIS_SAPS/selected_SAPSplot_B_20130407.png\n",
      "currently working with--> ../data/SAIS_SAPS/selected_SAPSplot_B_20130521.png\n",
      "currently working with--> ../data/SAIS_SAPS/selected_SAPSplot_B_20130524.png\n",
      "currently working with--> ../data/SAIS_SAPS_withdata.DS_Store\n",
      "currently working with--> ../data/SAIS_SAPS_withdata/selected_SAIS/A_121012SAIS_data_ExB_iono_A_2012101210661200.txt\n",
      "currently working with--> ../data/SAIS_SAPS_withdata/selected_SAIS/A_121012SAIS_data_SCPOT_A_2012101210661200.txt\n",
      "currently working with--> ../data/SAIS_SAPS_withdata/selected_SAIS/A_121012SAIS_plot_A_20121012.png\n",
      "currently working with--> ../data/SAIS_SAPS_withdata/selected_SAIS/A_121230SAIS_data_ExB_iono_A_2012123009501050.txt\n",
      "currently working with--> ../data/SAIS_SAPS_withdata/selected_SAIS/A_121230SAIS_data_SCPOT_A_2012123009501050.txt\n",
      "currently working with--> ../data/SAIS_SAPS_withdata/selected_SAIS/A_121230SAIS_plot_A_20121230.png\n",
      "currently working with--> ../data/SAIS_SAPS_withdata/selected_SAIS/A_121231SAIS_data_ExB_iono_A_2012123103500450.txt\n",
      "currently working with--> ../data/SAIS_SAPS_withdata/selected_SAIS/A_121231SAIS_data_SCPOT_A_2012123103500450.txt\n",
      "currently working with--> ../data/SAIS_SAPS_withdata/selected_SAIS/A_121231SAIS_plot_A_20121231.png\n",
      "currently working with--> ../data/SAIS_SAPS_withdata/selected_SAIS/B_121213SAIS_data_ExB_iono_B_2012121309001000.txt\n",
      "currently working with--> ../data/SAIS_SAPS_withdata/selected_SAIS/B_121213SAIS_data_SCPOT_B_2012121309001000.txt\n",
      "currently working with--> ../data/SAIS_SAPS_withdata/selected_SAIS/B_121213SAIS_plot_B_20121213.png\n",
      "currently working with--> ../data/SAIS_SAPS_withdata/selected_SAIS/B_121216SAIS_data_ExB_iono_B_2012121609331033.txt\n",
      "currently working with--> ../data/SAIS_SAPS_withdata/selected_SAIS/B_121216SAIS_data_SCPOT_B_2012121609331033.txt\n",
      "currently working with--> ../data/SAIS_SAPS_withdata/selected_SAIS/B_121216SAIS_plot_B_20121216.png\n",
      "currently working with--> ../data/SAIS_SAPS_withdata/selected_SAIS/B_121230SAIS_data_ExB_iono_B_2012123007500850.txt\n",
      "currently working with--> ../data/SAIS_SAPS_withdata/selected_SAIS/B_121230SAIS_data_SCPOT_B_2012123007500850.txt\n",
      "currently working with--> ../data/SAIS_SAPS_withdata/selected_SAIS/B_121230SAIS_plot_B_20121230.png\n",
      "currently working with--> ../data/SAIS_SAPS_withdata/selected_SAPS.DS_Store\n",
      "currently working with--> ../data/SAIS_SAPS_withdata/selected_SAPS/A_130321plot_A_20130321.png\n",
      "currently working with--> ../data/SAIS_SAPS_withdata/selected_SAPS/A_130321SAPS_data_ExB_iono_A_2013032105000600.txt\n",
      "currently working with--> ../data/SAIS_SAPS_withdata/selected_SAPS/A_130321SAPS_data_SCPOT_A_2013032105000600.txt\n",
      "currently working with--> ../data/SAIS_SAPS_withdata/selected_SAPS/A_130622plot_A_20130622.png\n",
      "currently working with--> ../data/SAIS_SAPS_withdata/selected_SAPS/A_130622SAPS_data_ExB_iono_A_2013062205000700.txt\n",
      "currently working with--> ../data/SAIS_SAPS_withdata/selected_SAPS/A_130622SAPS_data_SCPOT_A_2013062205000700.txt\n",
      "currently working with--> ../data/SAIS_SAPS_withdata/selected_SAPS/A_130623plot_A_20130623.png\n",
      "currently working with--> ../data/SAIS_SAPS_withdata/selected_SAPS/A_130623SAPS_data_ExB_iono_A_2013062306500950.txt\n",
      "currently working with--> ../data/SAIS_SAPS_withdata/selected_SAPS/A_130623SAPS_data_SCPOT_A_2013062306500950.txt\n",
      "currently working with--> ../data/SAIS_SAPS_withdata/selected_SAPS/B_130407plot_B_20130407.png\n",
      "currently working with--> ../data/SAIS_SAPS_withdata/selected_SAPS/B_130407SAPS_data_ExB_iono_B_2013040712001400.txt\n",
      "currently working with--> ../data/SAIS_SAPS_withdata/selected_SAPS/B_130407SAPS_data_SCPOT_B_2013040712001400.txt\n",
      "currently working with--> ../data/SAIS_SAPS_withdata/selected_SAPS/B_130521plot_B_20130521.png\n",
      "currently working with--> ../data/SAIS_SAPS_withdata/selected_SAPS/B_130521SAPS_data_ExB_iono_B_2013052106000950.txt\n",
      "currently working with--> ../data/SAIS_SAPS_withdata/selected_SAPS/B_130521SAPS_data_SCPOT_B_2013052106000950.txt\n",
      "currently working with--> ../data/SAIS_SAPS_withdata/selected_SAPS/B_130524plot_B_20130524.png\n",
      "currently working with--> ../data/SAIS_SAPS_withdata/selected_SAPS/B_130524SAPS_data_ExB_iono_B_2013052407001050.txt\n",
      "currently working with--> ../data/SAIS_SAPS_withdata/selected_SAPS/B_130524SAPS_data_SCPOT_B_2013052407001050.txt\n"
     ]
    }
   ],
   "source": [
    "baseDir = \"../data/\"\n",
    "# Loop through the directory and get all files\n",
    "for root, dirs, files in os.walk(baseDir):\n",
    "    for fName in files:\n",
    "        print \"currently working with-->\", root + fName\n",
    "        if \"rbsp\" not in fName:\n",
    "            continue\n",
    "        cntErr = 0\n",
    "        lineList = []\n",
    "        with open(root + fName) as f:\n",
    "            lines = f.readlines()\n",
    "            for line in lines:\n",
    "                words = line.split(\" \")\n",
    "                # Now some of words are showing up with empty strings\n",
    "                # and these are leading to 9 elements! even though there\n",
    "                # aren't so many elements, example below\n",
    "                # ['20140929', '2258', '-10.2240-124.3066', '',\n",
    "                # '10.0252', '-16.9433-124.2027', '', '10.0321', 'SatA\\n']\n",
    "                # so remove blank strings\n",
    "                words = filter( None, words )\n",
    "                if  ( len(words) != 9 ) :\n",
    "                    cntErr += 1\n",
    "                    newWordList = []\n",
    "                    for w in words:\n",
    "                        currWord = w.split(\"-\")\n",
    "                        if ( (len( currWord ) > 1 ) & (currWord[0] != \"\") ):\n",
    "                            newWordList.append( currWord[0] )\n",
    "                            newWordList.append( \"-\" + currWord[1] )\n",
    "                        else:\n",
    "                            if currWord[0] != \"\":\n",
    "                                newWordList.append( currWord[0] )\n",
    "                            else:\n",
    "                                for nc, j in enumerate(currWord):\n",
    "                                    if nc > 0:\n",
    "                                        newWordList.append( \"-\" + j )\n",
    "                    editedLine = \" \".join(newWordList)\n",
    "                    lineList.append( editedLine )\n",
    "                else:\n",
    "                    lineList.append( line )\n",
    "        f.close()\n",
    "        newFileOut = root+fName+\".tmp\"\n",
    "        fo = open(newFileOut, \"w+\")\n",
    "        fo.writelines( lineList )\n",
    "        fo.close()\n",
    "        # Now move the temp file to the formatted one!\n",
    "        os.rename( newFileOut, root+fName )"
   ]
  },
  {
   "cell_type": "code",
   "execution_count": 3,
   "metadata": {
    "collapsed": false
   },
   "outputs": [
    {
     "name": "stdout",
     "output_type": "stream",
     "text": [
      "['aa', 'bb', 'cc']\n"
     ]
    }
   ],
   "source": [
    "a = [\"aa\", \"bb\", \"\", \"cc\"]\n",
    "a = filter( None, a )\n",
    "print a"
   ]
  },
  {
   "cell_type": "code",
   "execution_count": null,
   "metadata": {
    "collapsed": true
   },
   "outputs": [],
   "source": []
  }
 ],
 "metadata": {
  "kernelspec": {
   "display_name": "Python 2",
   "language": "python",
   "name": "python2"
  },
  "language_info": {
   "codemirror_mode": {
    "name": "ipython",
    "version": 2
   },
   "file_extension": ".py",
   "mimetype": "text/x-python",
   "name": "python",
   "nbconvert_exporter": "python",
   "pygments_lexer": "ipython2",
   "version": "2.7.9"
  }
 },
 "nbformat": 4,
 "nbformat_minor": 1
}
