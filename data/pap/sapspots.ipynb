{
 "cells": [
  {
   "cell_type": "code",
   "execution_count": 1,
   "metadata": {
    "collapsed": true
   },
   "outputs": [],
   "source": [
    "import pandas\n",
    "import datetime\n",
    "import numpy\n",
    "import seaborn as sns\n",
    "import matplotlib.pyplot as plt\n",
    "from matplotlib.colors import ListedColormap\n",
    "from matplotlib.colors import Normalize\n",
    "from matplotlib import ticker\n",
    "from davitpy.models import *\n",
    "from davitpy import utils\n",
    "from aacgmv2 import convert_mlt\n",
    "%matplotlib inline"
   ]
  },
  {
   "cell_type": "code",
   "execution_count": 2,
   "metadata": {
    "collapsed": true
   },
   "outputs": [],
   "source": [
    "# We'll model peak potential as a log function of AsyH index.\n",
    "def peak_pot_fit_func(asy):\n",
    "    # parameters from fitting\n",
    "    a_asy, b_asy = (-6.47, 9.48)\n",
    "    peakPotVal = a_asy + b_asy*numpy.log(asy)    \n",
    "    return peakPotVal"
   ]
  },
  {
   "cell_type": "code",
   "execution_count": 6,
   "metadata": {},
   "outputs": [
    {
     "data": {
      "text/html": [
       "<div>\n",
       "<table border=\"1\" class=\"dataframe\">\n",
       "  <thead>\n",
       "    <tr style=\"text-align: right;\">\n",
       "      <th></th>\n",
       "      <th>date</th>\n",
       "      <th>start_time</th>\n",
       "      <th>end_time</th>\n",
       "    </tr>\n",
       "  </thead>\n",
       "  <tbody>\n",
       "    <tr>\n",
       "      <th>0</th>\n",
       "      <td>20110205</td>\n",
       "      <td>230</td>\n",
       "      <td>330</td>\n",
       "    </tr>\n",
       "    <tr>\n",
       "      <th>1</th>\n",
       "      <td>20110302</td>\n",
       "      <td>100</td>\n",
       "      <td>230</td>\n",
       "    </tr>\n",
       "    <tr>\n",
       "      <th>2</th>\n",
       "      <td>20110310</td>\n",
       "      <td>545</td>\n",
       "      <td>615</td>\n",
       "    </tr>\n",
       "    <tr>\n",
       "      <th>3</th>\n",
       "      <td>20110312</td>\n",
       "      <td>15</td>\n",
       "      <td>45</td>\n",
       "    </tr>\n",
       "    <tr>\n",
       "      <th>4</th>\n",
       "      <td>20110403</td>\n",
       "      <td>400</td>\n",
       "      <td>600</td>\n",
       "    </tr>\n",
       "  </tbody>\n",
       "</table>\n",
       "</div>"
      ],
      "text/plain": [
       "       date  start_time  end_time\n",
       "0  20110205         230       330\n",
       "1  20110302         100       230\n",
       "2  20110310         545       615\n",
       "3  20110312          15        45\n",
       "4  20110403         400       600"
      ]
     },
     "execution_count": 6,
     "metadata": {},
     "output_type": "execute_result"
    }
   ],
   "source": [
    "inpFname = \"SuperDARNSapsDates.txt\"\n",
    "sapsDatesDF = pandas.read_csv(inpFname, delim_whitespace=True)\n",
    "sapsDatesDF.head()"
   ]
  },
  {
   "cell_type": "code",
   "execution_count": 35,
   "metadata": {},
   "outputs": [],
   "source": [
    "# Asy Inds\n",
    "asyDF = pandas.read_csv( \"Asy_processed.txt\", sep=' ' )\n",
    "asyDF[\"date\"] = pandas.to_datetime(asyDF[\"datetimeStr\"], format='%Y%m%d-%H-%M')\n",
    "asyDF[\"hour\"] = asyDF[\"date\"].apply(lambda x: x.strftime('%H'))\n",
    "asyDF[\"minute\"] = asyDF[\"date\"].apply(lambda x: x.strftime('%M'))\n",
    "asyDF[\"dtStr\"] = asyDF[\"date\"].apply(lambda x: x.strftime('%Y%m%d'))\n",
    "selColsAsy = [ \"AsyH\", \"date\", \"dtStr\" ]\n",
    "asyDF = asyDF[selColsAsy]"
   ]
  },
  {
   "cell_type": "code",
   "execution_count": 33,
   "metadata": {},
   "outputs": [],
   "source": [
    "sapsDatesDF[\"date\"] = sapsDatesDF[\"date\"].astype(str)\n",
    "sapsDatesDF[\"start_time\"] = sapsDatesDF[\"start_time\"].astype(str)\n",
    "sapsDatesDF[\"start_time\"] = [ x.zfill(4) for x in sapsDatesDF[\"start_time\"] ]\n",
    "sapsDatesDF[\"end_time\"] = sapsDatesDF[\"end_time\"].astype(str)\n",
    "sapsDatesDF[\"end_time\"] = [ x.zfill(4) for x in sapsDatesDF[\"end_time\"] ]\n",
    "sapsDatesDF[\"st_date\"] = pandas.to_datetime( sapsDatesDF[\"date\"] + \"-\" + sapsDatesDF[\"start_time\"], format=\"%Y%m%d-%H%M\" )\n",
    "sapsDatesDF[\"end_date\"] = pandas.to_datetime( sapsDatesDF[\"date\"] + \"-\" + sapsDatesDF[\"end_time\"], format=\"%Y%m%d-%H%M\" )"
   ]
  },
  {
   "cell_type": "code",
   "execution_count": 54,
   "metadata": {},
   "outputs": [
    {
     "data": {
      "text/html": [
       "<div>\n",
       "<table border=\"1\" class=\"dataframe\">\n",
       "  <thead>\n",
       "    <tr style=\"text-align: right;\">\n",
       "      <th></th>\n",
       "      <th>date</th>\n",
       "      <th>median_asyh</th>\n",
       "      <th>peak_potential_model</th>\n",
       "    </tr>\n",
       "  </thead>\n",
       "  <tbody>\n",
       "    <tr>\n",
       "      <th>0</th>\n",
       "      <td>20110205</td>\n",
       "      <td>24.0</td>\n",
       "      <td>24.0</td>\n",
       "    </tr>\n",
       "    <tr>\n",
       "      <th>1</th>\n",
       "      <td>20110302</td>\n",
       "      <td>53.0</td>\n",
       "      <td>31.0</td>\n",
       "    </tr>\n",
       "    <tr>\n",
       "      <th>2</th>\n",
       "      <td>20110310</td>\n",
       "      <td>18.0</td>\n",
       "      <td>21.0</td>\n",
       "    </tr>\n",
       "    <tr>\n",
       "      <th>3</th>\n",
       "      <td>20110312</td>\n",
       "      <td>44.0</td>\n",
       "      <td>29.0</td>\n",
       "    </tr>\n",
       "    <tr>\n",
       "      <th>4</th>\n",
       "      <td>20110403</td>\n",
       "      <td>41.0</td>\n",
       "      <td>29.0</td>\n",
       "    </tr>\n",
       "  </tbody>\n",
       "</table>\n",
       "</div>"
      ],
      "text/plain": [
       "       date  median_asyh  peak_potential_model\n",
       "0  20110205         24.0                  24.0\n",
       "1  20110302         53.0                  31.0\n",
       "2  20110310         18.0                  21.0\n",
       "3  20110312         44.0                  29.0\n",
       "4  20110403         41.0                  29.0"
      ]
     },
     "execution_count": 54,
     "metadata": {},
     "output_type": "execute_result"
    }
   ],
   "source": [
    "datesList = []\n",
    "medianAsyList = []\n",
    "medianPotList = []\n",
    "for row in sapsDatesDF.iterrows():\n",
    "    subAsyDF = asyDF[ (asyDF[\"date\"] >= row[1][\"st_date\"]) &\\\n",
    "                     (asyDF[\"date\"] <= row[1][\"end_date\"]) ]\n",
    "    asyMedVal = numpy.median( subAsyDF[\"AsyH\"].values )\n",
    "    potMedianVal = numpy.round( peak_pot_fit_func(asyMedVal) )\n",
    "    datesList.append( row[1][\"date\"] )\n",
    "    medianAsyList.append( asyMedVal )\n",
    "    medianPotList.append( potMedianVal )\n",
    "    \n",
    "sapsPotDF = pandas.DataFrame({\n",
    "            \"date\" : datesList,\n",
    "            \"median_asyh\" : medianAsyList,\n",
    "            \"peak_potential_model\" : medianPotList\n",
    "            })\n",
    "sapsPotDF.head()"
   ]
  },
  {
   "cell_type": "code",
   "execution_count": 61,
   "metadata": {},
   "outputs": [],
   "source": [
    "sapsPotDF.to_csv(\"saps-potentials-2013.csv\", header=True,\\\n",
    "                    index=False, sep=' ' )"
   ]
  },
  {
   "cell_type": "code",
   "execution_count": 62,
   "metadata": {},
   "outputs": [
    {
     "data": {
      "text/plain": [
       "array([[<matplotlib.axes._subplots.AxesSubplot object at 0x7fcc1452e790>,\n",
       "        <matplotlib.axes._subplots.AxesSubplot object at 0x7fcc144e01d0>]], dtype=object)"
      ]
     },
     "execution_count": 62,
     "metadata": {},
     "output_type": "execute_result"
    },
    {
     "data": {
      "image/png": "[encoded data removed]",
      "text/plain": [
       "<matplotlib.figure.Figure at 0x7fcc14541e10>"
      ]
     },
     "metadata": {},
     "output_type": "display_data"
    }
   ],
   "source": [
    "sapsPotDF.hist()"
   ]
  },
  {
   "cell_type": "code",
   "execution_count": 64,
   "metadata": {},
   "outputs": [
    {
     "data": {
      "text/html": [
       "<div>\n",
       "<table border=\"1\" class=\"dataframe\">\n",
       "  <thead>\n",
       "    <tr style=\"text-align: right;\">\n",
       "      <th></th>\n",
       "      <th>date</th>\n",
       "      <th>start_time</th>\n",
       "      <th>end_time</th>\n",
       "      <th>st_date</th>\n",
       "      <th>end_date</th>\n",
       "    </tr>\n",
       "  </thead>\n",
       "  <tbody>\n",
       "    <tr>\n",
       "      <th>34</th>\n",
       "      <td>20110806</td>\n",
       "      <td>0100</td>\n",
       "      <td>0400</td>\n",
       "      <td>2011-08-06 01:00:00</td>\n",
       "      <td>2011-08-06 04:00:00</td>\n",
       "    </tr>\n",
       "  </tbody>\n",
       "</table>\n",
       "</div>"
      ],
      "text/plain": [
       "        date start_time end_time             st_date            end_date\n",
       "34  20110806       0100     0400 2011-08-06 01:00:00 2011-08-06 04:00:00"
      ]
     },
     "execution_count": 64,
     "metadata": {},
     "output_type": "execute_result"
    }
   ],
   "source": [
    "sapsDatesDF[ sapsDatesDF[\"date\"] == \"20110806\"]"
   ]
  },
  {
   "cell_type": "code",
   "execution_count": null,
   "metadata": {
    "collapsed": true
   },
   "outputs": [],
   "source": []
  }
 ],
 "metadata": {
  "kernelspec": {
   "display_name": "Python 2",
   "language": "python",
   "name": "python2"
  },
  "language_info": {
   "codemirror_mode": {
    "name": "ipython",
    "version": 2
   },
   "file_extension": ".py",
   "mimetype": "text/x-python",
   "name": "python",
   "nbconvert_exporter": "python",
   "pygments_lexer": "ipython2",
   "version": "2.7.6"
  }
 },
 "nbformat": 4,
 "nbformat_minor": 2
}
