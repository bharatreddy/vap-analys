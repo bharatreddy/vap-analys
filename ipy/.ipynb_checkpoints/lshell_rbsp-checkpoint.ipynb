{
 "cells": [
  {
   "cell_type": "code",
   "execution_count": 1,
   "metadata": {
    "collapsed": true
   },
   "outputs": [],
   "source": [
    "import pandas\n",
    "import datetime\n",
    "import os"
   ]
  },
  {
   "cell_type": "code",
   "execution_count": 2,
   "metadata": {
    "collapsed": false
   },
   "outputs": [
    {
     "data": {
      "text/html": [
       "<div>\n",
       "<table border=\"1\" class=\"dataframe\">\n",
       "  <thead>\n",
       "    <tr style=\"text-align: right;\">\n",
       "      <th></th>\n",
       "      <th>dateStr</th>\n",
       "      <th>timeStr</th>\n",
       "      <th>beam</th>\n",
       "      <th>range</th>\n",
       "      <th>azim</th>\n",
       "      <th>Vlos</th>\n",
       "      <th>vlosMLAT</th>\n",
       "      <th>vlosMLON</th>\n",
       "      <th>vlosMLT</th>\n",
       "      <th>radId</th>\n",
       "      <th>radCode</th>\n",
       "      <th>date</th>\n",
       "      <th>vlosMLATRounded</th>\n",
       "      <th>vlosMLONRounded</th>\n",
       "      <th>vlosMLTRounded</th>\n",
       "    </tr>\n",
       "  </thead>\n",
       "  <tbody>\n",
       "    <tr>\n",
       "      <th>0</th>\n",
       "      <td>20130316</td>\n",
       "      <td>530</td>\n",
       "      <td>0</td>\n",
       "      <td>23</td>\n",
       "      <td>-1.36</td>\n",
       "      <td>125.2675</td>\n",
       "      <td>59.0047</td>\n",
       "      <td>0.7763</td>\n",
       "      <td>0.6239</td>\n",
       "      <td>32</td>\n",
       "      <td>wal</td>\n",
       "      <td>2013-03-16 05:30:00</td>\n",
       "      <td>59.0</td>\n",
       "      <td>1.0</td>\n",
       "      <td>0.5</td>\n",
       "    </tr>\n",
       "    <tr>\n",
       "      <th>1</th>\n",
       "      <td>20130316</td>\n",
       "      <td>530</td>\n",
       "      <td>0</td>\n",
       "      <td>24</td>\n",
       "      <td>-1.36</td>\n",
       "      <td>85.4466</td>\n",
       "      <td>59.3899</td>\n",
       "      <td>0.8093</td>\n",
       "      <td>0.6261</td>\n",
       "      <td>32</td>\n",
       "      <td>wal</td>\n",
       "      <td>2013-03-16 05:30:00</td>\n",
       "      <td>59.5</td>\n",
       "      <td>1.0</td>\n",
       "      <td>0.5</td>\n",
       "    </tr>\n",
       "    <tr>\n",
       "      <th>2</th>\n",
       "      <td>20130316</td>\n",
       "      <td>530</td>\n",
       "      <td>0</td>\n",
       "      <td>25</td>\n",
       "      <td>-1.36</td>\n",
       "      <td>57.6021</td>\n",
       "      <td>59.7744</td>\n",
       "      <td>0.8402</td>\n",
       "      <td>0.6282</td>\n",
       "      <td>32</td>\n",
       "      <td>wal</td>\n",
       "      <td>2013-03-16 05:30:00</td>\n",
       "      <td>60.0</td>\n",
       "      <td>1.0</td>\n",
       "      <td>0.5</td>\n",
       "    </tr>\n",
       "    <tr>\n",
       "      <th>3</th>\n",
       "      <td>20130316</td>\n",
       "      <td>530</td>\n",
       "      <td>0</td>\n",
       "      <td>26</td>\n",
       "      <td>-1.36</td>\n",
       "      <td>52.8089</td>\n",
       "      <td>60.1583</td>\n",
       "      <td>0.8689</td>\n",
       "      <td>0.6301</td>\n",
       "      <td>32</td>\n",
       "      <td>wal</td>\n",
       "      <td>2013-03-16 05:30:00</td>\n",
       "      <td>60.0</td>\n",
       "      <td>1.0</td>\n",
       "      <td>0.5</td>\n",
       "    </tr>\n",
       "    <tr>\n",
       "      <th>4</th>\n",
       "      <td>20130316</td>\n",
       "      <td>530</td>\n",
       "      <td>0</td>\n",
       "      <td>27</td>\n",
       "      <td>-1.36</td>\n",
       "      <td>32.6200</td>\n",
       "      <td>60.5418</td>\n",
       "      <td>0.8955</td>\n",
       "      <td>0.6319</td>\n",
       "      <td>32</td>\n",
       "      <td>wal</td>\n",
       "      <td>2013-03-16 05:30:00</td>\n",
       "      <td>60.5</td>\n",
       "      <td>1.0</td>\n",
       "      <td>0.5</td>\n",
       "    </tr>\n",
       "  </tbody>\n",
       "</table>\n",
       "</div>"
      ],
      "text/plain": [
       "    dateStr  timeStr  beam  range  azim      Vlos  vlosMLAT  vlosMLON  \\\n",
       "0  20130316      530     0     23 -1.36  125.2675   59.0047    0.7763   \n",
       "1  20130316      530     0     24 -1.36   85.4466   59.3899    0.8093   \n",
       "2  20130316      530     0     25 -1.36   57.6021   59.7744    0.8402   \n",
       "3  20130316      530     0     26 -1.36   52.8089   60.1583    0.8689   \n",
       "4  20130316      530     0     27 -1.36   32.6200   60.5418    0.8955   \n",
       "\n",
       "   vlosMLT  radId radCode                date  vlosMLATRounded  \\\n",
       "0   0.6239     32     wal 2013-03-16 05:30:00             59.0   \n",
       "1   0.6261     32     wal 2013-03-16 05:30:00             59.5   \n",
       "2   0.6282     32     wal 2013-03-16 05:30:00             60.0   \n",
       "3   0.6301     32     wal 2013-03-16 05:30:00             60.0   \n",
       "4   0.6319     32     wal 2013-03-16 05:30:00             60.5   \n",
       "\n",
       "   vlosMLONRounded  vlosMLTRounded  \n",
       "0              1.0             0.5  \n",
       "1              1.0             0.5  \n",
       "2              1.0             0.5  \n",
       "3              1.0             0.5  \n",
       "4              1.0             0.5  "
      ]
     },
     "execution_count": 2,
     "metadata": {},
     "output_type": "execute_result"
    }
   ],
   "source": [
    "## Load the l-o-s data into a DF\n",
    "## we'll work on the March-16-2016 Event\n",
    "\n",
    "# We'll also need a datetime column! so a function to convert\n",
    "# the date and time strings to python datetime objects!!!\n",
    "\n",
    "def cnvrt_to_datetime(row):\n",
    "        # Given a datestr and a time string convert to a python datetime obj.\n",
    "        import datetime\n",
    "        datecolName=\"dateStr\"\n",
    "        timeColName=\"timeStr\"\n",
    "        currDateStr = str( int( row[datecolName] ) )\n",
    "    #     return currDateStr\n",
    "        if row[timeColName] < 10:\n",
    "            currTimeStr = \"000\" + str( int( row[timeColName] ) )\n",
    "        elif row[timeColName] < 100:\n",
    "            currTimeStr = \"00\" + str( int( row[timeColName] ) )\n",
    "        elif row[timeColName] < 1000:\n",
    "            currTimeStr = \"0\" + str( int( row[timeColName] ) )\n",
    "        else:\n",
    "            currTimeStr = str( int( row[timeColName] ) )\n",
    "        return datetime.datetime.strptime( currDateStr\\\n",
    "                        + \":\" + currTimeStr, \"%Y%m%d:%H%M\" )\n",
    "\n",
    "inpColNames = [ \"dateStr\", \"timeStr\", \"beam\", \"range\", \\\n",
    "              \"azim\", \"Vlos\", \"vlosMLAT\", \"vlosMLON\", \"vlosMLT\",\\\n",
    "               \"radId\", \"radCode\"]\n",
    "losFileName = \"/home/bharat/Documents/code/vap-analys/data/frmtd-saps-vels-20130316.txt\"\n",
    "losSDVelDF = pandas.read_csv(losFileName, sep=' ',\\\n",
    "                             header=None, names=inpColNames)\n",
    "# Add a datetime column\n",
    "losSDVelDF[\"date\"] = losSDVelDF.apply( cnvrt_to_datetime, axis=1 )\n",
    "# Get rounded values of MLAT, MLON and MLT\n",
    "losSDVelDF[\"vlosMLATRounded\"] = [ round(x * 2) / 2 \\\n",
    "                                for x in losSDVelDF[\"vlosMLAT\"] ]\n",
    "losSDVelDF[\"vlosMLONRounded\"] = [ round(x * 2) / 2 \\\n",
    "                                for x in losSDVelDF[\"vlosMLON\"] ]\n",
    "losSDVelDF[\"vlosMLTRounded\"] = [ round(x * 2) / 2 \\\n",
    "                                for x in losSDVelDF[\"vlosMLT\"] ]\n",
    "losSDVelDF.head()"
   ]
  },
  {
   "cell_type": "code",
   "execution_count": 3,
   "metadata": {
    "collapsed": false
   },
   "outputs": [
    {
     "name": "stdout",
     "output_type": "stream",
     "text": [
      "    dateStr  timeStr  MLatNth   MLonNth  MLTNth  MLatSth   MLonSth  MLTSth  \\\n",
      "0  20120901        0  60.4318  175.1409  6.9650 -61.0936  174.9068  6.9494   \n",
      "1  20120901        1  60.4748  175.1404  6.9808 -61.1292  174.9045  6.9651   \n",
      "2  20120901        2  60.5249  175.1412  6.9970 -61.1923  174.9108  6.9816   \n",
      "3  20120901        3  60.5654  175.0439  7.0066 -61.2283  174.8086  6.9909   \n",
      "4  20120901        4  60.6031  175.0506  7.0237 -61.2637  174.8065  7.0075   \n",
      "\n",
      "    sat  \n",
      "0  SatA  \n",
      "1  SatA  \n",
      "2  SatA  \n",
      "3  SatA  \n",
      "4  SatA  \n",
      "    dateStr  timeStr  MLatNth   MLonNth  MLTNth  MLatSth   MLonSth  MLTSth  \\\n",
      "0  20120901        0  59.9692  173.1644  6.8332 -60.6304  172.8850  6.8146   \n",
      "1  20120901        1  60.0350  173.0641  6.8424 -60.6955  172.7885  6.8240   \n",
      "2  20120901        2  60.0879  173.0674  6.8587 -60.7497  172.7920  6.8404   \n",
      "3  20120901        3  60.1297  173.0679  6.8749 -60.7877  172.7871  6.8562   \n",
      "4  20120901        4  60.1836  172.9732  6.8852 -60.8533  172.6920  6.8665   \n",
      "\n",
      "    sat  \n",
      "0  SatB  \n",
      "1  SatB  \n",
      "2  SatB  \n",
      "3  SatB  \n",
      "4  SatB  \n"
     ]
    }
   ],
   "source": [
    "# Now read RBSP data into DFs\n",
    "# Read in RBSP sat A data\n",
    "rbspSatADF = pandas.read_csv(\"../data/rbsp_iono_satA.txt\", \\\n",
    "                             delim_whitespace=True, header=None)\n",
    "rbspSatADF.columns = [ \"dateStr\", \"timeStr\", \"MLatNth\", \"MLonNth\",\\\n",
    "                      \"MLTNth\", \"MLatSth\", \"MLonSth\", \"MLTSth\", \"sat\" ]\n",
    "rbspSatADF[ [\"MLatNth\", \"MLonNth\", \"MLTNth\", \"MLatSth\", \"MLonSth\", \"MLTSth\"] ] = rbspSatADF[ [\"MLatNth\", \"MLonNth\", \"MLTNth\",\\\n",
    "             \"MLatSth\", \"MLonSth\", \"MLTSth\"] ].astype(float)\n",
    "print rbspSatADF.head()\n",
    "####### DO THE SAME FOR SAT B #######\n",
    "####### DO THE SAME FOR SAT B #######\n",
    "rbspSatBDF = pandas.read_csv(\"../data/rbsp_iono_satB.txt\", \\\n",
    "                             delim_whitespace=True, header=None)\n",
    "rbspSatBDF.columns = [ \"dateStr\", \"timeStr\", \"MLatNth\", \"MLonNth\",\\\n",
    "                      \"MLTNth\", \"MLatSth\", \"MLonSth\", \"MLTSth\", \"sat\" ]\n",
    "rbspSatBDF[ [\"MLatNth\", \"MLonNth\", \"MLTNth\", \"MLatSth\", \"MLonSth\", \"MLTSth\"] ] = rbspSatBDF[ [\"MLatNth\", \"MLonNth\", \"MLTNth\",\\\n",
    "             \"MLatSth\", \"MLonSth\", \"MLTSth\"] ].astype(float)\n",
    "print rbspSatBDF.head()\n",
    "####### DO THE SAME FOR SAT B #######\n",
    "####### DO THE SAME FOR SAT B #######"
   ]
  },
  {
   "cell_type": "code",
   "execution_count": 4,
   "metadata": {
    "collapsed": false
   },
   "outputs": [
    {
     "name": "stdout",
     "output_type": "stream",
     "text": [
      "    dateStr  timeStr                date hour  MLatNth   MLonNth  MLTNth  \\\n",
      "0  20120901        0 2012-09-01 00:00:00   00  60.4318  175.1409  6.9650   \n",
      "1  20120901        1 2012-09-01 00:01:00   00  60.4748  175.1404  6.9808   \n",
      "2  20120901        2 2012-09-01 00:02:00   00  60.5249  175.1412  6.9970   \n",
      "3  20120901        3 2012-09-01 00:03:00   00  60.5654  175.0439  7.0066   \n",
      "4  20120901        4 2012-09-01 00:04:00   00  60.6031  175.0506  7.0237   \n",
      "\n",
      "   MLatNth_round  MLTNth_round  \n",
      "0           60.5           7.0  \n",
      "1           60.5           7.0  \n",
      "2           60.5           7.0  \n",
      "3           60.5           7.0  \n",
      "4           60.5           7.0  \n",
      "    dateStr  timeStr                date hour  MLatNth   MLonNth  MLTNth  \\\n",
      "0  20120901        0 2012-09-01 00:00:00   00  59.9692  173.1644  6.8332   \n",
      "1  20120901        1 2012-09-01 00:01:00   00  60.0350  173.0641  6.8424   \n",
      "2  20120901        2 2012-09-01 00:02:00   00  60.0879  173.0674  6.8587   \n",
      "3  20120901        3 2012-09-01 00:03:00   00  60.1297  173.0679  6.8749   \n",
      "4  20120901        4 2012-09-01 00:04:00   00  60.1836  172.9732  6.8852   \n",
      "\n",
      "   MLatNth_round  MLTNth_round  \n",
      "0           60.0           7.0  \n",
      "1           60.0           7.0  \n",
      "2           60.0           7.0  \n",
      "3           60.0           7.0  \n",
      "4           60.0           7.0  \n"
     ]
    }
   ],
   "source": [
    "# Convert the date and time strings to datetime objects\n",
    "# Then round off MLATs and MLTs to nearest 0.5\n",
    "def rbsp_to_datetime(row, datecolName=\"dateStr\", timeColName=\"timeStr\"):\n",
    "    currDateStr = str( int( row[datecolName] ) )\n",
    "#     return currDateStr\n",
    "    if row[timeColName] < 10:\n",
    "        currTimeStr = \"000\" + str( int( row[timeColName] ) )\n",
    "    elif row[timeColName] < 100:\n",
    "        currTimeStr = \"00\" + str( int( row[timeColName] ) )\n",
    "    elif row[timeColName] < 1000:\n",
    "        currTimeStr = \"0\" + str( int( row[timeColName] ) )\n",
    "    else:\n",
    "        currTimeStr = str( int( row[timeColName] ) )\n",
    "    return datetime.datetime.strptime( currDateStr\\\n",
    "                    + \":\" + currTimeStr, \"%Y%m%d:%H%M\" )\n",
    "\n",
    "rbspSatADF[\"date\"] = rbspSatADF.apply( rbsp_to_datetime, axis=1 )\n",
    "rbspSatADF[\"hour\"] = [ x.strftime(\"%H\") for x in rbspSatADF[\"date\"] ]\n",
    "rbspSatADF[\"MLatNth_round\"] = [ round(x * 2) / 2 for x in rbspSatADF[\"MLatNth\"] ]\n",
    "rbspSatADF[\"MLTNth_round\"] = [ round(x * 2) / 2 for x in rbspSatADF[\"MLTNth\"] ]\n",
    "\n",
    "rbspSatADF = rbspSatADF[ [ \"dateStr\", \"timeStr\", \"date\", \"hour\",\\\n",
    "                      \"MLatNth\", \"MLonNth\",\"MLTNth\", \"MLatNth_round\", \"MLTNth_round\" ] ]\n",
    "# Now we represent MLT 24 as MLT 0 everywhere. \n",
    "# Lets maintain a consistent pattern\n",
    "# Convert all MLT 24s to 0s\n",
    "rbspSatADF[\"MLTNth_round\"] = rbspSatADF[\"MLTNth_round\"].map(lambda x: x % 24.)\n",
    "print rbspSatADF.head()\n",
    "\n",
    "####### DO THE SAME FOR SAT B #######\n",
    "####### DO THE SAME FOR SAT B #######\n",
    "rbspSatBDF[\"date\"] = rbspSatBDF.apply( rbsp_to_datetime, axis=1 )\n",
    "rbspSatBDF[\"hour\"] = [ x.strftime(\"%H\") for x in rbspSatBDF[\"date\"] ]\n",
    "rbspSatBDF[\"MLatNth_round\"] = [ round(x * 2) / 2 for x in rbspSatBDF[\"MLatNth\"] ]\n",
    "rbspSatBDF[\"MLTNth_round\"] = [ round(x * 2) / 2 for x in rbspSatBDF[\"MLTNth\"] ]\n",
    "\n",
    "rbspSatBDF = rbspSatBDF[ [ \"dateStr\", \"timeStr\", \"date\", \"hour\",\\\n",
    "                      \"MLatNth\", \"MLonNth\",\"MLTNth\", \"MLatNth_round\", \"MLTNth_round\" ] ]\n",
    "# Now we represent MLT 24 as MLT 0 everywhere. \n",
    "# Lets maintain a consistent pattern\n",
    "# Convert all MLT 24s to 0s\n",
    "rbspSatBDF[\"MLTNth_round\"] = rbspSatBDF[\"MLTNth_round\"].map(lambda x: x % 24.)\n",
    "print rbspSatBDF.head()\n",
    "####### DO THE SAME FOR SAT B #######\n",
    "####### DO THE SAME FOR SAT B #######"
   ]
  },
  {
   "cell_type": "code",
   "execution_count": 5,
   "metadata": {
    "collapsed": false
   },
   "outputs": [],
   "source": [
    "# Filter for rbsp data for the \n",
    "# time range given in the event!\n",
    "eventStartTime = losSDVelDF[\"date\"].min()\n",
    "eventEndTime = losSDVelDF[\"date\"].max()\n",
    "rbspSatADF = rbspSatADF[ (rbspSatADF[\"date\"] >= eventStartTime) &\\\n",
    "                       (rbspSatADF[\"date\"] <= eventEndTime)].\\\n",
    "                        reset_index(drop=True)\n",
    "rbspSatBDF = rbspSatBDF[ (rbspSatBDF[\"date\"] >= eventStartTime) &\\\n",
    "                   (rbspSatBDF[\"date\"] <= eventEndTime)].\\\n",
    "                    reset_index(drop=True)"
   ]
  },
  {
   "cell_type": "code",
   "execution_count": 6,
   "metadata": {
    "collapsed": false
   },
   "outputs": [
    {
     "ename": "KeyError",
     "evalue": "\"['MLAT' 'MLON' 'MLT'] not in index\"",
     "output_type": "error",
     "traceback": [
      "\u001b[0;31m---------------------------------------------------------------------------\u001b[0m",
      "\u001b[0;31mKeyError\u001b[0m                                  Traceback (most recent call last)",
      "\u001b[0;32m<ipython-input-6-84b3a4398511>\u001b[0m in \u001b[0;36m<module>\u001b[0;34m()\u001b[0m\n\u001b[1;32m      2\u001b[0m \u001b[0mrbspSatADF\u001b[0m \u001b[0;34m=\u001b[0m \u001b[0mpandas\u001b[0m\u001b[0;34m.\u001b[0m\u001b[0mmerge\u001b[0m\u001b[0;34m(\u001b[0m \u001b[0mrbspSatADF\u001b[0m\u001b[0;34m,\u001b[0m \u001b[0mlosSDVelDF\u001b[0m\u001b[0;34m,\u001b[0m \u001b[0mon\u001b[0m\u001b[0;34m=\u001b[0m\u001b[0;34m[\u001b[0m\u001b[0;34m\"date\"\u001b[0m\u001b[0;34m]\u001b[0m \u001b[0;34m)\u001b[0m\u001b[0;34m\u001b[0m\u001b[0m\n\u001b[1;32m      3\u001b[0m \u001b[0;31m# We only need a few columns filter out the rest\u001b[0m\u001b[0;34m\u001b[0m\u001b[0;34m\u001b[0m\u001b[0m\n\u001b[0;32m----> 4\u001b[0;31m \u001b[0mrbspSatADF\u001b[0m \u001b[0;34m=\u001b[0m \u001b[0mrbspSatADF\u001b[0m\u001b[0;34m[\u001b[0m \u001b[0;34m[\u001b[0m \u001b[0;34m\"dateStr_x\"\u001b[0m\u001b[0;34m,\u001b[0m \u001b[0;34m\"timeStr_x\"\u001b[0m\u001b[0;34m,\u001b[0m \u001b[0;34m\"date\"\u001b[0m\u001b[0;34m,\u001b[0m \u001b[0;34m\"MLatNth\"\u001b[0m\u001b[0;34m,\u001b[0m                         \u001b[0;34m\"MLonNth\"\u001b[0m\u001b[0;34m,\u001b[0m \u001b[0;34m\"MLTNth\"\u001b[0m\u001b[0;34m,\u001b[0m \u001b[0;34m\"MLatNth_round\"\u001b[0m\u001b[0;34m,\u001b[0m \u001b[0;34m\"MLTNth_round\"\u001b[0m\u001b[0;34m,\u001b[0m                         \u001b[0;34m\"beam\"\u001b[0m\u001b[0;34m,\u001b[0m \u001b[0;34m\"range\"\u001b[0m\u001b[0;34m,\u001b[0m \u001b[0;34m\"azim\"\u001b[0m\u001b[0;34m,\u001b[0m \u001b[0;34m\"Vlos\"\u001b[0m\u001b[0;34m,\u001b[0m \u001b[0;34m\"MLAT\"\u001b[0m\u001b[0;34m,\u001b[0m \u001b[0;34m\"MLON\"\u001b[0m\u001b[0;34m,\u001b[0m \u001b[0;34m\"MLT\"\u001b[0m\u001b[0;34m,\u001b[0m                         \u001b[0;34m\"radId\"\u001b[0m\u001b[0;34m,\u001b[0m \u001b[0;34m\"radCode\"\u001b[0m\u001b[0;34m]\u001b[0m \u001b[0;34m]\u001b[0m\u001b[0;34m\u001b[0m\u001b[0m\n\u001b[0m\u001b[1;32m      5\u001b[0m \u001b[0mrbspSatADF\u001b[0m\u001b[0;34m.\u001b[0m\u001b[0mhead\u001b[0m\u001b[0;34m(\u001b[0m\u001b[0;34m)\u001b[0m\u001b[0;34m\u001b[0m\u001b[0m\n",
      "\u001b[0;32m/usr/local/lib/python2.7/dist-packages/pandas/core/frame.pyc\u001b[0m in \u001b[0;36m__getitem__\u001b[0;34m(self, key)\u001b[0m\n\u001b[1;32m   2049\u001b[0m         \u001b[0;32mif\u001b[0m \u001b[0misinstance\u001b[0m\u001b[0;34m(\u001b[0m\u001b[0mkey\u001b[0m\u001b[0;34m,\u001b[0m \u001b[0;34m(\u001b[0m\u001b[0mSeries\u001b[0m\u001b[0;34m,\u001b[0m \u001b[0mnp\u001b[0m\u001b[0;34m.\u001b[0m\u001b[0mndarray\u001b[0m\u001b[0;34m,\u001b[0m \u001b[0mIndex\u001b[0m\u001b[0;34m,\u001b[0m \u001b[0mlist\u001b[0m\u001b[0;34m)\u001b[0m\u001b[0;34m)\u001b[0m\u001b[0;34m:\u001b[0m\u001b[0;34m\u001b[0m\u001b[0m\n\u001b[1;32m   2050\u001b[0m             \u001b[0;31m# either boolean or fancy integer index\u001b[0m\u001b[0;34m\u001b[0m\u001b[0;34m\u001b[0m\u001b[0m\n\u001b[0;32m-> 2051\u001b[0;31m             \u001b[0;32mreturn\u001b[0m \u001b[0mself\u001b[0m\u001b[0;34m.\u001b[0m\u001b[0m_getitem_array\u001b[0m\u001b[0;34m(\u001b[0m\u001b[0mkey\u001b[0m\u001b[0;34m)\u001b[0m\u001b[0;34m\u001b[0m\u001b[0m\n\u001b[0m\u001b[1;32m   2052\u001b[0m         \u001b[0;32melif\u001b[0m \u001b[0misinstance\u001b[0m\u001b[0;34m(\u001b[0m\u001b[0mkey\u001b[0m\u001b[0;34m,\u001b[0m \u001b[0mDataFrame\u001b[0m\u001b[0;34m)\u001b[0m\u001b[0;34m:\u001b[0m\u001b[0;34m\u001b[0m\u001b[0m\n\u001b[1;32m   2053\u001b[0m             \u001b[0;32mreturn\u001b[0m \u001b[0mself\u001b[0m\u001b[0;34m.\u001b[0m\u001b[0m_getitem_frame\u001b[0m\u001b[0;34m(\u001b[0m\u001b[0mkey\u001b[0m\u001b[0;34m)\u001b[0m\u001b[0;34m\u001b[0m\u001b[0m\n",
      "\u001b[0;32m/usr/local/lib/python2.7/dist-packages/pandas/core/frame.pyc\u001b[0m in \u001b[0;36m_getitem_array\u001b[0;34m(self, key)\u001b[0m\n\u001b[1;32m   2093\u001b[0m             \u001b[0;32mreturn\u001b[0m \u001b[0mself\u001b[0m\u001b[0;34m.\u001b[0m\u001b[0mtake\u001b[0m\u001b[0;34m(\u001b[0m\u001b[0mindexer\u001b[0m\u001b[0;34m,\u001b[0m \u001b[0maxis\u001b[0m\u001b[0;34m=\u001b[0m\u001b[0;36m0\u001b[0m\u001b[0;34m,\u001b[0m \u001b[0mconvert\u001b[0m\u001b[0;34m=\u001b[0m\u001b[0mFalse\u001b[0m\u001b[0;34m)\u001b[0m\u001b[0;34m\u001b[0m\u001b[0m\n\u001b[1;32m   2094\u001b[0m         \u001b[0;32melse\u001b[0m\u001b[0;34m:\u001b[0m\u001b[0;34m\u001b[0m\u001b[0m\n\u001b[0;32m-> 2095\u001b[0;31m             \u001b[0mindexer\u001b[0m \u001b[0;34m=\u001b[0m \u001b[0mself\u001b[0m\u001b[0;34m.\u001b[0m\u001b[0mix\u001b[0m\u001b[0;34m.\u001b[0m\u001b[0m_convert_to_indexer\u001b[0m\u001b[0;34m(\u001b[0m\u001b[0mkey\u001b[0m\u001b[0;34m,\u001b[0m \u001b[0maxis\u001b[0m\u001b[0;34m=\u001b[0m\u001b[0;36m1\u001b[0m\u001b[0;34m)\u001b[0m\u001b[0;34m\u001b[0m\u001b[0m\n\u001b[0m\u001b[1;32m   2096\u001b[0m             \u001b[0;32mreturn\u001b[0m \u001b[0mself\u001b[0m\u001b[0;34m.\u001b[0m\u001b[0mtake\u001b[0m\u001b[0;34m(\u001b[0m\u001b[0mindexer\u001b[0m\u001b[0;34m,\u001b[0m \u001b[0maxis\u001b[0m\u001b[0;34m=\u001b[0m\u001b[0;36m1\u001b[0m\u001b[0;34m,\u001b[0m \u001b[0mconvert\u001b[0m\u001b[0;34m=\u001b[0m\u001b[0mTrue\u001b[0m\u001b[0;34m)\u001b[0m\u001b[0;34m\u001b[0m\u001b[0m\n\u001b[1;32m   2097\u001b[0m \u001b[0;34m\u001b[0m\u001b[0m\n",
      "\u001b[0;32m/usr/local/lib/python2.7/dist-packages/pandas/core/indexing.pyc\u001b[0m in \u001b[0;36m_convert_to_indexer\u001b[0;34m(self, obj, axis, is_setter)\u001b[0m\n\u001b[1;32m   1227\u001b[0m                 \u001b[0mmask\u001b[0m \u001b[0;34m=\u001b[0m \u001b[0mcheck\u001b[0m \u001b[0;34m==\u001b[0m \u001b[0;34m-\u001b[0m\u001b[0;36m1\u001b[0m\u001b[0;34m\u001b[0m\u001b[0m\n\u001b[1;32m   1228\u001b[0m                 \u001b[0;32mif\u001b[0m \u001b[0mmask\u001b[0m\u001b[0;34m.\u001b[0m\u001b[0many\u001b[0m\u001b[0;34m(\u001b[0m\u001b[0;34m)\u001b[0m\u001b[0;34m:\u001b[0m\u001b[0;34m\u001b[0m\u001b[0m\n\u001b[0;32m-> 1229\u001b[0;31m                     \u001b[0;32mraise\u001b[0m \u001b[0mKeyError\u001b[0m\u001b[0;34m(\u001b[0m\u001b[0;34m'%s not in index'\u001b[0m \u001b[0;34m%\u001b[0m \u001b[0mobjarr\u001b[0m\u001b[0;34m[\u001b[0m\u001b[0mmask\u001b[0m\u001b[0;34m]\u001b[0m\u001b[0;34m)\u001b[0m\u001b[0;34m\u001b[0m\u001b[0m\n\u001b[0m\u001b[1;32m   1230\u001b[0m \u001b[0;34m\u001b[0m\u001b[0m\n\u001b[1;32m   1231\u001b[0m                 \u001b[0;32mreturn\u001b[0m \u001b[0m_values_from_object\u001b[0m\u001b[0;34m(\u001b[0m\u001b[0mindexer\u001b[0m\u001b[0;34m)\u001b[0m\u001b[0;34m\u001b[0m\u001b[0m\n",
      "\u001b[0;31mKeyError\u001b[0m: \"['MLAT' 'MLON' 'MLT'] not in index\""
     ]
    }
   ],
   "source": [
    "# Now merge the DFs on datetime \n",
    "rbspSatADF = pandas.merge( rbspSatADF, losSDVelDF, on=[\"date\"] )\n",
    "# We only need a few columns filter out the rest\n",
    "rbspSatADF = rbspSatADF[ [ \"dateStr_x\", \"timeStr_x\", \"date\", \"MLatNth\",\\\n",
    "                         \"MLonNth\", \"MLTNth\", \"MLatNth_round\", \"MLTNth_round\",\\\n",
    "                         \"beam\", \"range\", \"azim\", \"Vlos\", \"vlosMLAT\", \"vlosMLON\",\\\n",
    "                          \"vlosMLT\", \"vlosMLATRounded\", \"vlosMLONRounded\",\\\n",
    "                          \"vlosMLTRounded\",\"radId\", \"radCode\"] ]\n",
    "rbspSatADF.head()"
   ]
  },
  {
   "cell_type": "code",
   "execution_count": null,
   "metadata": {
    "collapsed": false
   },
   "outputs": [],
   "source": [
    "print rbspSatADF.columns"
   ]
  },
  {
   "cell_type": "code",
   "execution_count": null,
   "metadata": {
    "collapsed": true
   },
   "outputs": [],
   "source": []
  },
  {
   "cell_type": "code",
   "execution_count": null,
   "metadata": {
    "collapsed": true
   },
   "outputs": [],
   "source": []
  },
  {
   "cell_type": "code",
   "execution_count": null,
   "metadata": {
    "collapsed": true
   },
   "outputs": [],
   "source": []
  }
 ],
 "metadata": {
  "kernelspec": {
   "display_name": "Python 2",
   "language": "python",
   "name": "python2"
  },
  "language_info": {
   "codemirror_mode": {
    "name": "ipython",
    "version": 2
   },
   "file_extension": ".py",
   "mimetype": "text/x-python",
   "name": "python",
   "nbconvert_exporter": "python",
   "pygments_lexer": "ipython2",
   "version": "2.7.6"
  }
 },
 "nbformat": 4,
 "nbformat_minor": 1
}
