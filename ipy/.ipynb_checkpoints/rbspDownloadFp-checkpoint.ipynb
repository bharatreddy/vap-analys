{
 "cells": [
  {
   "cell_type": "code",
   "execution_count": 1,
   "metadata": {
    "collapsed": true
   },
   "outputs": [],
   "source": [
    "import pandas\n",
    "import datetime\n",
    "import numpy\n",
    "import bs4\n",
    "import urllib"
   ]
  },
  {
   "cell_type": "code",
   "execution_count": null,
   "metadata": {
    "collapsed": true
   },
   "outputs": [],
   "source": [
    "# Info link\n",
    "infoLink = \"http://rbspgway.jhuapl.edu/analysis_models\"\n",
    "# TEST RBSP download link\n",
    "testUrl = \"https://www.rbsp-ect.lanl.gov/data_pub/rbspb/MagEphem/def/2013/rbspb_def_MagEphem_TS04D_20131231_v1.0.0.txt\"\n",
    "# TS07D Link:\n",
    "ts07DUrl = \"http://rbspgway.jhuapl.edu/SGMagEphem\""
   ]
  }
 ],
 "metadata": {
  "kernelspec": {
   "display_name": "Python 2",
   "language": "python",
   "name": "python2"
  },
  "language_info": {
   "codemirror_mode": {
    "name": "ipython",
    "version": 2
   },
   "file_extension": ".py",
   "mimetype": "text/x-python",
   "name": "python",
   "nbconvert_exporter": "python",
   "pygments_lexer": "ipython2",
   "version": "2.7.9"
  }
 },
 "nbformat": 4,
 "nbformat_minor": 1
}
