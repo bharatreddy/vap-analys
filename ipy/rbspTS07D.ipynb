{
 "cells": [
  {
   "cell_type": "code",
   "execution_count": 1,
   "metadata": {
    "collapsed": true
   },
   "outputs": [],
   "source": [
    "import pandas\n",
    "import datetime\n",
    "import numpy\n",
    "import bs4\n",
    "import urllib\n",
    "import os"
   ]
  },
  {
   "cell_type": "code",
   "execution_count": 2,
   "metadata": {
    "collapsed": true
   },
   "outputs": [],
   "source": [
    "### Below are some useful urls to download data (ephemeris) files\n",
    "### These may not be directly used in the code but can be used to\n",
    "### download data that will be used in the code. Basically, noting\n",
    "### them down here so that I wouldn't loose them!\n",
    "# Info link\n",
    "infoLink = \"http://rbspgway.jhuapl.edu/analysis_models\"\n",
    "# TEST RBSP download link\n",
    "testUrl = \"https://www.rbsp-ect.lanl.gov/data_pub/rbspb/MagEphem/def/2013/rbspb_def_MagEphem_TS04D_20131231_v1.0.0.txt\"\n",
    "# TS07D Link:\n",
    "ts07DUrl = \"http://rbspgway.jhuapl.edu/SGMagEphem\""
   ]
  },
  {
   "cell_type": "code",
   "execution_count": 3,
   "metadata": {
    "collapsed": false
   },
   "outputs": [
    {
     "name": "stdout",
     "output_type": "stream",
     "text": [
      "num files found---> 1687\n"
     ]
    }
   ],
   "source": [
    "# THE TS07D Ephemeris files are in a folder by date\n",
    "# Loop through the files in the folder, read the files,\n",
    "# process the data (remove unwanted cols) and output \n",
    "# the data into a new file. That can be used by IDL to\n",
    "# calculate AACGM coords.\n",
    "# set the base directory\n",
    "baseDir = \"/home/bharat/Documents/code/rbsp-locs/\"\n",
    "# Loop through the base directory and sub directories\n",
    "# and get a list of ephemeris files that we need!\n",
    "fileList = []\n",
    "for root, dirs, files in os.walk(baseDir):\n",
    "    for fName in files:\n",
    "        # Get only those files which start with \n",
    "        # the words \"ts07d\". These contain rbsp info!\n",
    "        if fName.startswith(\"ts07d\"):\n",
    "            fileList.append( root + \"/\" + fName )\n",
    "print \"num files found--->\", len(fileList)"
   ]
  },
  {
   "cell_type": "code",
   "execution_count": 6,
   "metadata": {
    "collapsed": false
   },
   "outputs": [
    {
     "name": "stdout",
     "output_type": "stream",
     "text": [
      "       CD_MLAT     CD_MLON    CD_MLT\n",
      "0   -15.006778  144.208238  4.868379\n",
      "1   -15.093074  143.899375  4.931511\n",
      "2   -15.174177  143.576870  4.993853\n",
      "3   -15.250382  143.242106  5.055499\n",
      "4   -15.321976  142.896323  5.116534\n",
      "5   -15.389224  142.540695  5.177037\n",
      "6   -15.452376  142.176336  5.237083\n",
      "7   -15.511664  141.804310  5.296745\n",
      "8   -15.567309  141.425639  5.356091\n",
      "9   -15.619519  141.041304  5.415188\n",
      "10  -15.668490  140.652257  5.474100\n",
      "11  -15.714413  140.259422  5.532888\n",
      "12  -15.757466  139.863702  5.591614\n",
      "13  -15.797823  139.465985  5.650336\n",
      "14  -15.835651  139.067144  5.709114\n",
      "15  -15.871113  138.668048  5.768004\n",
      "16  -15.904365  138.269560  5.827065\n",
      "17  -15.935561  137.872547  5.886353\n",
      "18  -15.964852  137.477880  5.945927\n",
      "19  -15.992384  137.086440  6.005844\n",
      "20  -16.018303  136.699125  6.066163\n",
      "21  -16.042754  136.316849  6.126944\n",
      "22  -16.065877  135.940555  6.188249\n",
      "23  -16.087815  135.571211  6.250141\n",
      "24  -16.108709  135.209826  6.312685\n",
      "25  -16.128699  134.857447  6.375951\n",
      "26  -16.147927  134.515171  6.440008\n",
      "27  -16.166535  134.184152  6.504932\n",
      "28  -16.184663  133.865607  6.570803\n",
      "29  -16.202456  133.560828  6.637702\n",
      "..         ...         ...       ...\n",
      "120   1.534604    6.141864  6.042102\n",
      "121   1.459832    5.764237  6.099414\n",
      "122   1.386687    5.385743  6.156574\n",
      "123   1.315085    5.007213  6.213638\n",
      "124   1.244958    4.629477  6.270665\n",
      "125   1.176246    4.253366  6.327713\n",
      "126   1.108898    3.879718  6.384840\n",
      "127   1.042879    3.509381  6.442105\n",
      "128   0.978158    3.143219  6.499569\n",
      "129   0.914718    2.782114  6.557292\n",
      "130   0.852552    2.426975  6.615339\n",
      "131   0.791664    2.078740  6.673773\n",
      "132   0.732066    1.738382  6.732663\n",
      "133   0.673785    1.406915  6.792079\n",
      "134   0.616856    1.085403  6.852094\n",
      "135   0.561329    0.774964  6.912786\n",
      "136   0.507265    0.476781  6.974235\n",
      "137   0.454739    0.192108  7.036529\n",
      "138   0.403840  359.922282  7.099758\n",
      "139   0.354673  359.668736  7.164021\n",
      "140   0.307358  359.433008  7.229423\n",
      "141   0.262035  359.216758  7.296076\n",
      "142   0.218863  359.021787  7.364104\n",
      "143   0.178023  358.850052  7.433639\n",
      "144   0.139719  358.703693  7.504827\n",
      "145   0.104183  358.585059  7.577825\n",
      "146   0.071678  358.496736  7.652809\n",
      "147   0.042500  358.441588  7.729973\n",
      "148   0.016981  358.422796  7.809529\n",
      "149  -0.004499  358.443917  7.891718\n",
      "\n",
      "[150 rows x 3 columns]\n"
     ]
    }
   ],
   "source": [
    "# Now loop through the files and work on getting the data\n",
    "# setup a o/p file to write just the required params!\n",
    "opFile = baseDir + \"/rbspOp.txt\"\n",
    "cnt = 0\n",
    "# Before appending to the file! delete it if it \n",
    "# exists already. We dont want to append to old data!\n",
    "if os.path.isfile( opFile ):\n",
    "    os.remove( opFile )\n",
    "with open(opFile, 'a') as opf:\n",
    "    for fn in fileList:\n",
    "        currData = pandas.read_csv(fn, delim_whitespace=True)\n",
    "        # Also need to check if curr file belongs \n",
    "        # to rbspa or rbspb. This can then be used\n",
    "        # to identify which spacecraft Fps belong to!\n",
    "        if \"rbspa\" in fn:\n",
    "            currData[\"sat\"] = \"rbspa\"\n",
    "        else:\n",
    "            currData[\"sat\"] = \"rbspb\"\n",
    "        currData[\"dtObj\"] = pandas.to_datetime(currData[\"Time\"])\n",
    "        # Add a few additional datetime related columns\n",
    "        currData[\"drvd_date\"] = [ x.strftime(\"%Y%m%d\") for x in currData[\"dtObj\"] ]\n",
    "        currData[\"drvd_time\"] = [ x.strftime(\"%H%M\") for x in currData[\"dtObj\"] ]\n",
    "        currData[\"drvd_year\"] = [ x.year for x in currData[\"dtObj\"] ]\n",
    "        currData[\"drvd_mon\"] = [ x.month for x in currData[\"dtObj\"] ]\n",
    "        currData[\"drvd_day\"] = [ x.day for x in currData[\"dtObj\"] ]\n",
    "        # now we'll need only a few columns, just choose them\n",
    "        currData = currData[ ['drvd_date', 'drvd_time',\\\n",
    "                              'drvd_year', 'drvd_mon',\\\n",
    "                              'drvd_day', 'Xgeo', 'Ygeo',\\\n",
    "                              'Zgeo', 'GeodLat', 'GeodLon',\\\n",
    "                              'GeodHeight', 'sat', 'CD_MLAT',\\\n",
    "                              'CD_MLON', 'CD_MLT'] ]\n",
    "        # Write the DF data to the op file    \n",
    "        currData.to_csv(opf, header=False, index=False, sep=' ')"
   ]
  },
  {
   "cell_type": "code",
   "execution_count": null,
   "metadata": {
    "collapsed": true
   },
   "outputs": [],
   "source": []
  }
 ],
 "metadata": {
  "kernelspec": {
   "display_name": "Python 2",
   "language": "python",
   "name": "python2"
  },
  "language_info": {
   "codemirror_mode": {
    "name": "ipython",
    "version": 2
   },
   "file_extension": ".py",
   "mimetype": "text/x-python",
   "name": "python",
   "nbconvert_exporter": "python",
   "pygments_lexer": "ipython2",
   "version": "2.7.6"
  }
 },
 "nbformat": 4,
 "nbformat_minor": 1
}
