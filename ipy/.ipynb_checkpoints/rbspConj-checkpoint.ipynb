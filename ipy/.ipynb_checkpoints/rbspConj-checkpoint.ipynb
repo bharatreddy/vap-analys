{
 "cells": [
  {
   "cell_type": "code",
   "execution_count": 1,
   "metadata": {
    "collapsed": true
   },
   "outputs": [],
   "source": [
    "import pandas\n",
    "import datetime"
   ]
  },
  {
   "cell_type": "code",
   "execution_count": 2,
   "metadata": {
    "collapsed": false
   },
   "outputs": [
    {
     "name": "stdout",
     "output_type": "stream",
     "text": [
      "    dateStr  timeStr  MLatNth   MLonNth  MLTNth  MLatSth   MLonSth  MLTSth  \\\n",
      "0  20120901        0  60.4318  175.1409  6.9650 -61.0936  174.9068  6.9494   \n",
      "1  20120901        1  60.4748  175.1404  6.9808 -61.1292  174.9045  6.9651   \n",
      "2  20120901        2  60.5249  175.1412  6.9970 -61.1923  174.9108  6.9816   \n",
      "3  20120901        3  60.5654  175.0439  7.0066 -61.2283  174.8086  6.9909   \n",
      "4  20120901        4  60.6031  175.0506  7.0237 -61.2637  174.8065  7.0075   \n",
      "\n",
      "    sat  \n",
      "0  SatA  \n",
      "1  SatA  \n",
      "2  SatA  \n",
      "3  SatA  \n",
      "4  SatA  \n",
      "    dateStr  timeStr  MLatNth   MLonNth  MLTNth  MLatSth   MLonSth  MLTSth  \\\n",
      "0  20120901        0  59.9692  173.1644  6.8332 -60.6304  172.8850  6.8146   \n",
      "1  20120901        1  60.0350  173.0641  6.8424 -60.6955  172.7885  6.8240   \n",
      "2  20120901        2  60.0879  173.0674  6.8587 -60.7497  172.7920  6.8404   \n",
      "3  20120901        3  60.1297  173.0679  6.8749 -60.7877  172.7871  6.8562   \n",
      "4  20120901        4  60.1836  172.9732  6.8852 -60.8533  172.6920  6.8665   \n",
      "\n",
      "    sat  \n",
      "0  SatB  \n",
      "1  SatB  \n",
      "2  SatB  \n",
      "3  SatB  \n",
      "4  SatB  \n"
     ]
    }
   ],
   "source": [
    "# Read in RBSP sat A data\n",
    "rbspSatADF = pandas.read_csv(\"../data/rbsp_iono_satA.txt\", \\\n",
    "                             delim_whitespace=True, header=None)\n",
    "rbspSatADF.columns = [ \"dateStr\", \"timeStr\", \"MLatNth\", \"MLonNth\",\\\n",
    "                      \"MLTNth\", \"MLatSth\", \"MLonSth\", \"MLTSth\", \"sat\" ]\n",
    "rbspSatADF[ [\"MLatNth\", \"MLonNth\", \"MLTNth\", \"MLatSth\", \"MLonSth\", \"MLTSth\"] ] = rbspSatADF[ [\"MLatNth\", \"MLonNth\", \"MLTNth\",\\\n",
    "             \"MLatSth\", \"MLonSth\", \"MLTSth\"] ].astype(float)\n",
    "print rbspSatADF.head()\n",
    "####### DO THE SAME FOR SAT B #######\n",
    "####### DO THE SAME FOR SAT B #######\n",
    "rbspSatBDF = pandas.read_csv(\"../data/rbsp_iono_satB.txt\", \\\n",
    "                             delim_whitespace=True, header=None)\n",
    "rbspSatBDF.columns = [ \"dateStr\", \"timeStr\", \"MLatNth\", \"MLonNth\",\\\n",
    "                      \"MLTNth\", \"MLatSth\", \"MLonSth\", \"MLTSth\", \"sat\" ]\n",
    "rbspSatBDF[ [\"MLatNth\", \"MLonNth\", \"MLTNth\", \"MLatSth\", \"MLonSth\", \"MLTSth\"] ] = rbspSatBDF[ [\"MLatNth\", \"MLonNth\", \"MLTNth\",\\\n",
    "             \"MLatSth\", \"MLonSth\", \"MLTSth\"] ].astype(float)\n",
    "print rbspSatBDF.head()\n",
    "####### DO THE SAME FOR SAT B #######\n",
    "####### DO THE SAME FOR SAT B #######"
   ]
  },
  {
   "cell_type": "code",
   "execution_count": 3,
   "metadata": {
    "collapsed": false
   },
   "outputs": [
    {
     "ename": "SyntaxError",
     "evalue": "invalid syntax (<ipython-input-3-78f518244ddd>, line 26)",
     "output_type": "error",
     "traceback": [
      "\u001b[0;36m  File \u001b[0;32m\"<ipython-input-3-78f518244ddd>\"\u001b[0;36m, line \u001b[0;32m26\u001b[0m\n\u001b[0;31m    prin rbspSatADF.head()\u001b[0m\n\u001b[0m                  ^\u001b[0m\n\u001b[0;31mSyntaxError\u001b[0m\u001b[0;31m:\u001b[0m invalid syntax\n"
     ]
    }
   ],
   "source": [
    "# Convert the date and time strings to datetime objects\n",
    "# Then round off MLATs and MLTs to nearest 0.5\n",
    "def convert_to_datetime(row, datecolName=\"dateStr\", timeColName=\"timeStr\"):\n",
    "    currDateStr = str( int( row[datecolName] ) )\n",
    "#     return currDateStr\n",
    "    if row[timeColName] < 10:\n",
    "        currTimeStr = \"000\" + str( int( row[timeColName] ) )\n",
    "    elif row[timeColName] < 100:\n",
    "        currTimeStr = \"00\" + str( int( row[timeColName] ) )\n",
    "    elif row[timeColName] < 1000:\n",
    "        currTimeStr = \"0\" + str( int( row[timeColName] ) )\n",
    "    else:\n",
    "        currTimeStr = str( int( row[timeColName] ) )\n",
    "    return datetime.datetime.strptime( currDateStr\\\n",
    "                    + \":\" + currTimeStr, \"%Y%m%d:%H%M\" )\n",
    "\n",
    "rbspSatADF[\"date\"] = rbspSatADF.apply( convert_to_datetime, axis=1 )\n",
    "rbspSatADF[\"hour\"] = [ x.strftime(\"%H\") for x in rbspSatADF[\"date\"] ]\n",
    "rbspSatADF[\"MLatNth_round\"] = [ round(x * 2) / 2 for x in rbspSatADF[\"MLatNth\"] ]\n",
    "rbspSatADF[\"MLTNth_round\"] = [ round(x * 2) / 2 for x in rbspSatADF[\"MLTNth\"] ]\n",
    "\n",
    "rbspSatADF = rbspSatADF[ [ \"dateStr\", \"timeStr\", \"date\", \"hour\",\\\n",
    "                      \"MLatNth\", \"MLonNth\",\"MLTNth\", \"MLatNth_round\", \"MLTNth_round\" ] ]\n",
    "# Now we represent MLT 24 as MLT 0 everywhere. \n",
    "# Lets maintain a consistent pattern\n",
    "# Convert all MLT 24s to 0s\n",
    "rbspSatADF[\"MLTNth_round\"] = rbspSatADF[\"MLTNth_round\"].map(lambda x: x % 24.)\n",
    "print rbspSatADF.head()\n",
    "\n",
    "####### DO THE SAME FOR SAT B #######\n",
    "####### DO THE SAME FOR SAT B #######\n",
    "rbspSatBDF[\"date\"] = rbspSatBDF.apply( convert_to_datetime, axis=1 )\n",
    "rbspSatBDF[\"hour\"] = [ x.strftime(\"%H\") for x in rbspSatBDF[\"date\"] ]\n",
    "rbspSatBDF[\"MLatNth_round\"] = [ round(x * 2) / 2 for x in rbspSatBDF[\"MLatNth\"] ]\n",
    "rbspSatBDF[\"MLTNth_round\"] = [ round(x * 2) / 2 for x in rbspSatBDF[\"MLTNth\"] ]\n",
    "\n",
    "rbspSatBDF = rbspSatBDF[ [ \"dateStr\", \"timeStr\", \"date\", \"hour\",\\\n",
    "                      \"MLatNth\", \"MLonNth\",\"MLTNth\", \"MLatNth_round\", \"MLTNth_round\" ] ]\n",
    "# Now we represent MLT 24 as MLT 0 everywhere. \n",
    "# Lets maintain a consistent pattern\n",
    "# Convert all MLT 24s to 0s\n",
    "rbspSatBDF[\"MLTNth_round\"] = rbspSatBDF[\"MLTNth_round\"].map(lambda x: x % 24.)\n",
    "print rbspSatBDF.head()\n",
    "####### DO THE SAME FOR SAT B #######\n",
    "####### DO THE SAME FOR SAT B #######"
   ]
  },
  {
   "cell_type": "code",
   "execution_count": null,
   "metadata": {
    "collapsed": false
   },
   "outputs": [],
   "source": [
    "# Read SAPS data file!\n",
    "datFileName = \"../data/processedSaps-rbsp.txt\"\n",
    "sapsDataDF = pandas.read_csv(datFileName, sep=' ')\n",
    "# add dst_bins\n",
    "dstBins = [ -150, -75, -50, -25, -10, 10 ]\n",
    "sapsDataDF = pandas.concat( [ sapsDataDF, \\\n",
    "                    pandas.cut( sapsDataDF[\"dst_index\"], \\\n",
    "                               bins=dstBins ) ], axis=1 )\n",
    "sapsDataDF.columns = [ [\"dateStr\", \"hour\",\"sapsLat\", \\\n",
    "                     \"sapsMLT\", \"sapsVel\", \"radId\", \"poesLat\",\\\n",
    "                     \"poesMLT\", \"dst_date\", \"dst_index\", \"timeStr\", \"dst_bin\"] ]\n",
    "sapsDataDF = sapsDataDF.drop([\"radId\", \"poesLat\", \"poesMLT\", \"dst_date\", \"hour\"], 1)\n",
    "# Round off MLT to nearest half\n",
    "sapsDataDF[\"sapsMLTRounded\"] = [ round(x * 2) / 2 \\\n",
    "                                for x in sapsDataDF[\"sapsMLT\"] ]\n",
    "# Add a date column\n",
    "sapsDataDF['date']= sapsDataDF.apply( convert_to_datetime, axis=1 )\n",
    "sapsDataDF.head()"
   ]
  },
  {
   "cell_type": "code",
   "execution_count": null,
   "metadata": {
    "collapsed": false
   },
   "outputs": [],
   "source": [
    "# Now join the two dataframes to identify common observations\n",
    "# We'll need to join on date, Mlat and MLT (rounded)\n",
    "conjrbspADF = pandas.merge( sapsDataDF, rbspSatADF,\\\n",
    "                          left_on=[ \"date\", \"sapsLat\", \"sapsMLTRounded\" ],\\\n",
    "                         right_on=[ \"date\", \"MLatNth_round\", \"MLTNth_round\" ],\\\n",
    "                         how=\"inner\")\n",
    "# Keep a few columns we'll need\n",
    "conjrbspADF = conjrbspADF[ [\"dateStr_x\", \"sapsLat\", \"sapsMLT\", \"dst_index\",\\\n",
    "                           \"timeStr_x\", \"dst_bin\", \"date\", \"MLatNth\", \"MLTNth\",\\\n",
    "                           \"MLatNth_round\", \"MLTNth_round\"] ]\n",
    "print conjrbspADF.head()\n",
    "\n",
    "####### DO THE SAME FOR SAT B #######\n",
    "####### DO THE SAME FOR SAT B #######\n",
    "conjrbspBDF = pandas.merge( sapsDataDF, rbspSatBDF,\\\n",
    "                          left_on=[ \"date\", \"sapsLat\", \"sapsMLTRounded\" ],\\\n",
    "                         right_on=[ \"date\", \"MLatNth_round\", \"MLTNth_round\" ],\\\n",
    "                         how=\"inner\")\n",
    "# Keep a few columns we'll need\n",
    "conjrbspBDF = conjrbspBDF[ [\"dateStr_x\", \"sapsLat\", \"sapsMLT\", \"dst_index\",\\\n",
    "                           \"timeStr_x\", \"dst_bin\", \"date\", \"MLatNth\", \"MLTNth\",\\\n",
    "                           \"MLatNth_round\", \"MLTNth_round\"] ]\n",
    "print conjrbspBDF.head()\n",
    "####### DO THE SAME FOR SAT B #######\n",
    "####### DO THE SAME FOR SAT B #######"
   ]
  },
  {
   "cell_type": "code",
   "execution_count": null,
   "metadata": {
    "collapsed": false
   },
   "outputs": [],
   "source": [
    "# At this point we assume, the dates found here are good!\n",
    "# Infact we might be missing out on several good events..\n",
    "rbspADatesDF = conjrbspADF.groupby([\"dateStr_x\"])[\"date\"].aggregate(lambda x: tuple(x)).reset_index()\n",
    "# now from min time we'll check times before 90 min\n",
    "# for max time we'll check times until after 60 min\n",
    "rbspADatesDF[\"minTime\"] = rbspADatesDF[\"date\"].map(\\\n",
    "                                    lambda x: min(x) - datetime.timedelta(minutes=90) )\n",
    "rbspADatesDF[\"maxTime\"] = rbspADatesDF[\"date\"].map(\\\n",
    "                                    lambda x: max(x) + datetime.timedelta(minutes=90) )\n",
    "rbspADatesDF[\"start_time\"] = rbspADatesDF[\"minTime\"].map(\\\n",
    "                                    lambda x: x.strftime(\"%H%M\") )\n",
    "rbspADatesDF[\"end_time\"] = rbspADatesDF[\"maxTime\"].map(\\\n",
    "                                    lambda x: x.strftime(\"%H%M\") )\n",
    "rbspADatesDF.columns = [ \"date\", \"date_time\", \"min_dt_obj\",\\\n",
    "                        \"max_dt_obj\", \"start_time\", \"end_time\" ]\n",
    "# Save in a file\n",
    "rbspADatesDF.to_csv(\"../data/rbsp_satA_conj.txt\", sep=' ',\\\n",
    "                   index=False, columns = [ \"date\", \"start_time\", \"end_time\" ])\n",
    "rbspADatesDF.head()"
   ]
  },
  {
   "cell_type": "code",
   "execution_count": null,
   "metadata": {
    "collapsed": false
   },
   "outputs": [],
   "source": [
    "####### DO THE SAME FOR SAT B #######\n",
    "####### DO THE SAME FOR SAT B #######\n",
    "rbspBDatesDF = conjrbspBDF.groupby([\"dateStr_x\"])[\"date\"].aggregate(lambda x: tuple(x)).reset_index()\n",
    "# now from min time we'll check times before 90 min\n",
    "# for max time we'll check times until after 60 min\n",
    "rbspBDatesDF[\"minTime\"] = rbspBDatesDF[\"date\"].map(\\\n",
    "                                    lambda x: min(x) - datetime.timedelta(minutes=90) )\n",
    "rbspBDatesDF[\"maxTime\"] = rbspBDatesDF[\"date\"].map(\\\n",
    "                                    lambda x: max(x) + datetime.timedelta(minutes=90) )\n",
    "rbspBDatesDF[\"start_time\"] = rbspBDatesDF[\"minTime\"].map(\\\n",
    "                                    lambda x: x.strftime(\"%H%M\") )\n",
    "rbspBDatesDF[\"end_time\"] = rbspBDatesDF[\"maxTime\"].map(\\\n",
    "                                    lambda x: x.strftime(\"%H%M\") )\n",
    "rbspBDatesDF.columns = [ \"date\", \"date_time\", \"min_dt_obj\",\\\n",
    "                        \"max_dt_obj\", \"start_time\", \"end_time\" ]\n",
    "# Save in a file\n",
    "rbspBDatesDF.to_csv(\"../data/rbsp_satB_conj.txt\", sep=' ',\\\n",
    "                   index=False, columns = [ \"date\", \"start_time\", \"end_time\" ])\n",
    "rbspBDatesDF.head()\n",
    "####### DO THE SAME FOR SAT B #######\n",
    "####### DO THE SAME FOR SAT B #######"
   ]
  },
  {
   "cell_type": "code",
   "execution_count": null,
   "metadata": {
    "collapsed": false
   },
   "outputs": [],
   "source": [
    "rbspADatesDF.head(200)"
   ]
  },
  {
   "cell_type": "code",
   "execution_count": null,
   "metadata": {
    "collapsed": true
   },
   "outputs": [],
   "source": [
    "rbspBDatesDF.head(200)"
   ]
  }
 ],
 "metadata": {
  "kernelspec": {
   "display_name": "Python 2",
   "language": "python",
   "name": "python2"
  },
  "language_info": {
   "codemirror_mode": {
    "name": "ipython",
    "version": 2
   },
   "file_extension": ".py",
   "mimetype": "text/x-python",
   "name": "python",
   "nbconvert_exporter": "python",
   "pygments_lexer": "ipython2",
   "version": "2.7.6"
  }
 },
 "nbformat": 4,
 "nbformat_minor": 1
}
