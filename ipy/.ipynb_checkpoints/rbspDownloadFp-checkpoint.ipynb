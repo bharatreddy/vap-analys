{
 "cells": [
  {
   "cell_type": "code",
   "execution_count": 1,
   "metadata": {
    "collapsed": true
   },
   "outputs": [],
   "source": [
    "import pandas\n",
    "import datetime\n",
    "import numpy\n",
    "import bs4\n",
    "import urllib\n",
    "import os"
   ]
  },
  {
   "cell_type": "code",
   "execution_count": 2,
   "metadata": {
    "collapsed": true
   },
   "outputs": [],
   "source": [
    "### Below are some useful urls to download data (ephemeris) files\n",
    "### These may not be directly used in the code but can be used to\n",
    "### download data that will be used in the code. Basically, noting\n",
    "### them down here so that I wouldn't loose them!\n",
    "# Info link\n",
    "infoLink = \"http://rbspgway.jhuapl.edu/analysis_models\"\n",
    "# TEST RBSP download link\n",
    "testUrl = \"https://www.rbsp-ect.lanl.gov/data_pub/rbspb/MagEphem/def/2013/rbspb_def_MagEphem_TS04D_20131231_v1.0.0.txt\"\n",
    "# TS07D Link:\n",
    "ts07DUrl = \"http://rbspgway.jhuapl.edu/SGMagEphem\""
   ]
  },
  {
   "cell_type": "code",
   "execution_count": 3,
   "metadata": {
    "collapsed": false
   },
   "outputs": [
    {
     "name": "stdout",
     "output_type": "stream",
     "text": [
      "num files found---> 1687\n"
     ]
    }
   ],
   "source": [
    "# THE TS07D Ephemeris files are in a folder by date\n",
    "# Loop through the files in the folder, read the files,\n",
    "# process the data (remove unwanted cols) and output \n",
    "# the data into a new file. That can be used by IDL to\n",
    "# calculate AACGM coords.\n",
    "# set the base directory\n",
    "baseDir = \"/home/bharat/Documents/code/rbsp-locs/\"\n",
    "# Loop through the base directory and sub directories\n",
    "# and get a list of ephemeris files that we need!\n",
    "fileList = []\n",
    "for root, dirs, files in os.walk(baseDir):\n",
    "    for fName in files:\n",
    "        # Get only those files which start with \n",
    "        # the words \"ts07d\". These contain rbsp info!\n",
    "        if fName.startswith(\"ts07d\"):\n",
    "            fileList.append( root + \"/\" + fName )\n",
    "print \"num files found--->\", len(fileList)"
   ]
  },
  {
   "cell_type": "code",
   "execution_count": 5,
   "metadata": {
    "collapsed": false
   },
   "outputs": [],
   "source": [
    "# Now loop through the files and work on getting the data\n",
    "# setup a o/p file to write just the required params!\n",
    "opFile = baseDir + \"/rbspOp.txt\"\n",
    "cnt = 0\n",
    "# Before appending to the file! delete it if it \n",
    "# exists already. We dont want to append to old data!\n",
    "if os.path.isfile( opFile ):\n",
    "    os.remove( opFile )\n",
    "with open(opFile, 'a') as opf:\n",
    "    for fn in fileList:\n",
    "        currData = pandas.read_csv(fn, delim_whitespace=True)\n",
    "        # Also need to check if curr file belongs \n",
    "        # to rbspa or rbspb. This can then be used\n",
    "        # to identify which spacecraft Fps belong to!\n",
    "        if \"rbspa\" in fn:\n",
    "            currData[\"sat\"] = \"rbspa\"\n",
    "        else:\n",
    "            currData[\"sat\"] = \"rbspb\"\n",
    "        currData[\"dtObj\"] = pandas.to_datetime(currData[\"Time\"])\n",
    "        # Add a few additional datetime related columns\n",
    "        currData[\"drvd_date\"] = [ x.strftime(\"%Y%m%d\") for x in currData[\"dtObj\"] ]\n",
    "        currData[\"drvd_time\"] = [ x.strftime(\"%H%M\") for x in currData[\"dtObj\"] ]\n",
    "        currData[\"drvd_year\"] = [ x.year for x in currData[\"dtObj\"] ]\n",
    "        currData[\"drvd_mon\"] = [ x.month for x in currData[\"dtObj\"] ]\n",
    "        currData[\"drvd_day\"] = [ x.day for x in currData[\"dtObj\"] ]\n",
    "        # now we'll need only a few columns, just choose them\n",
    "        currData = currData[ ['drvd_date', 'drvd_time',\\\n",
    "                              'drvd_year', 'drvd_mon',\\\n",
    "                              'drvd_day', 'Xgeo', 'Ygeo',\\\n",
    "                              'Zgeo', 'GeodLat', 'GeodLon',\\\n",
    "                              'GeodHeight', 'sat'] ]\n",
    "        # Write the DF data to the op file    \n",
    "        currData.to_csv(opf, header=False, index=False, sep=' ')"
   ]
  },
  {
   "cell_type": "code",
   "execution_count": null,
   "metadata": {
    "collapsed": true
   },
   "outputs": [],
   "source": []
  }
 ],
 "metadata": {
  "kernelspec": {
   "display_name": "Python 2",
   "language": "python",
   "name": "python2"
  },
  "language_info": {
   "codemirror_mode": {
    "name": "ipython",
    "version": 2
   },
   "file_extension": ".py",
   "mimetype": "text/x-python",
   "name": "python",
   "nbconvert_exporter": "python",
   "pygments_lexer": "ipython2",
   "version": "2.7.6"
  }
 },
 "nbformat": 4,
 "nbformat_minor": 1
}
