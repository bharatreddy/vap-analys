{
 "cells": [
  {
   "cell_type": "code",
   "execution_count": 15,
   "metadata": {
    "collapsed": true
   },
   "outputs": [],
   "source": [
    "import pandas\n",
    "import datetime\n",
    "import numpy\n",
    "import urllib\n",
    "import os\n",
    "import calendar\n",
    "import requests\n",
    "import io"
   ]
  },
  {
   "cell_type": "code",
   "execution_count": 22,
   "metadata": {
    "collapsed": false
   },
   "outputs": [
    {
     "name": "stdout",
     "output_type": "stream",
     "text": [
      "   Year  Month  Day  Hour  Minute  Second  ALT(km)  LAT    LON\n",
      "0  2012      9    1     0       0       0  25927.4  3.4  101.3\n",
      "1  2012      9    1     0       1       0  26013.4  3.3  101.2\n",
      "2  2012      9    1     0       2       0  26098.5  3.3  101.2\n",
      "3  2012      9    1     0       3       0  26182.8  3.3  101.2\n",
      "4  2012      9    1     0       4       0  26266.2  3.2  101.1\n"
     ]
    }
   ],
   "source": [
    "# Setup a start date and end date \n",
    "# between which to download data\n",
    "startDateDwnld = datetime.datetime( 2012, 9, 1 )\n",
    "endDateDwnld = datetime.datetime( 2014, 12, 31 )\n",
    "# Setup output directory and file\n",
    "outBaseDir = \"/home/bharat/Documents/code/rbsp-geo-pos/\"\n",
    "opFileSatA = outBaseDir + \"/rbspPosSatA.txt\"\n",
    "opFileSatB = outBaseDir + \"/rbspPosSatB.txt\"\n",
    "# Before appending to the file! delete it if it \n",
    "# exists already. We dont want to append to old data!\n",
    "if os.path.isfile( opFileSatA ):\n",
    "    os.remove( opFileSatA )\n",
    "if os.path.isfile( opFileSatB ):\n",
    "    os.remove( opFileSatB )\n",
    "# Setup necessary urls\n",
    "# SampleUrl = \"http://rbspgway.jhuapl.edu/rTools/orbitlist/lib/php/orbitlist.php?cli=GEO%20RBSP_A%201346457600%2086400%20-hdr%20-r\"\n",
    "baseUrl = \"http://rbspgway.jhuapl.edu/rTools/\" +\\\n",
    "        \"orbitlist/lib/php/orbitlist.php?\"\n",
    "# get the difference in days and loop through \n",
    "# each day to download the ascii file!\n",
    "# We'll download the full day\n",
    "delDates = endDateDwnld - startDateDwnld\n",
    "if delDates.days < 1:\n",
    "    loopDays = 1\n",
    "else:\n",
    "    loopDays = delDates.days\n",
    "for ld in range(loopDays + 1):\n",
    "    # get the timestamp of each date\n",
    "    currDate = startDateDwnld + datetime.timedelta(days=ld)\n",
    "    currTimestamp = calendar.timegm(currDate.timetuple())\n",
    "    # We'll do a urlencode\n",
    "    urlDictSatA = { 'cli' : 'GEO RBSP_A ' + \\\n",
    "                   str(currTimestamp) + ' 86400 -hdr -r' }\n",
    "    urlDictSatB = { 'cli' : 'GEO RBSP_B ' + \\\n",
    "                   str(currTimestamp) + ' 86400 -hdr -r' }\n",
    "    currUrlSatA = baseUrl + urllib.urlencode(urlDictSatA)\n",
    "    currUrlSatB = baseUrl + urllib.urlencode(urlDictSatB)\n",
    "    # Get data in a DF for both SAT-A and SAT-B\n",
    "    reqObj = requests.get(currUrlSatA).content\n",
    "    currDFSatA = pandas.read_csv( \\\n",
    "                        io.StringIO(reqObj.decode('utf-8')),\\\n",
    "                        delim_whitespace=True )\n",
    "    reqObj = requests.get(currUrlSatB).content\n",
    "    currDFSatB = pandas.read_csv( \\\n",
    "                        io.StringIO(reqObj.decode('utf-8')),\\\n",
    "                        delim_whitespace=True )\n",
    "    # Append the data in a text file\n",
    "    with open(opFileSatA, 'a') as opfA:\n",
    "        currDFSatA.to_csv(opfA, header=False,\\\n",
    "                          index=False, sep=' ')\n",
    "    with open(opFileSatB, 'a') as opfB:\n",
    "        currDFSatB.to_csv(opfB, header=False,\\\n",
    "                          index=False, sep=' ')\n"
   ]
  },
  {
   "cell_type": "code",
   "execution_count": null,
   "metadata": {
    "collapsed": true
   },
   "outputs": [],
   "source": []
  }
 ],
 "metadata": {
  "kernelspec": {
   "display_name": "Python 2",
   "language": "python",
   "name": "python2"
  },
  "language_info": {
   "codemirror_mode": {
    "name": "ipython",
    "version": 2
   },
   "file_extension": ".py",
   "mimetype": "text/x-python",
   "name": "python",
   "nbconvert_exporter": "python",
   "pygments_lexer": "ipython2",
   "version": "2.7.6"
  }
 },
 "nbformat": 4,
 "nbformat_minor": 1
}
