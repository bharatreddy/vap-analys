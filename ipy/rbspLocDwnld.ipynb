{
 "cells": [
  {
   "cell_type": "code",
   "execution_count": null,
   "metadata": {
    "collapsed": true
   },
   "outputs": [],
   "source": [
    "import pandas\n",
    "import datetime\n",
    "import numpy\n",
    "import urllib\n",
    "import os\n",
    "import calendar\n",
    "import requests\n",
    "import io"
   ]
  },
  {
   "cell_type": "code",
   "execution_count": null,
   "metadata": {
    "collapsed": false
   },
   "outputs": [],
   "source": [
    "# Setup a start date and end date \n",
    "# between which to download data\n",
    "startDateDwnld = datetime.datetime( 2012, 9, 1 )\n",
    "endDateDwnld = datetime.datetime( 2014, 12, 31 )\n",
    "# Setup output directory and file\n",
    "outBaseDir = \"/home/bharat/Documents/code/rbsp-geo-pos/\"\n",
    "opFileSatA = outBaseDir + \"/rbspPosSatA.txt\"\n",
    "opFileSatB = outBaseDir + \"/rbspPosSatB.txt\"\n",
    "# Before appending to the file! delete it if it \n",
    "# exists already. We dont want to append to old data!\n",
    "if os.path.isfile( opFileSatA ):\n",
    "    os.remove( opFileSatA )\n",
    "if os.path.isfile( opFileSatB ):\n",
    "    os.remove( opFileSatB )\n",
    "# Setup necessary urls\n",
    "# SampleUrl = \"http://rbspgway.jhuapl.edu/rTools/orbitlist/lib/php/orbitlist.php?cli=GEO%20RBSP_A%201346457600%2086400%20-hdr%20-r\"\n",
    "baseUrl = \"http://rbspgway.jhuapl.edu/rTools/\" +\\\n",
    "        \"orbitlist/lib/php/orbitlist.php?\"\n",
    "# get the difference in days and loop through \n",
    "# each day to download the ascii file!\n",
    "# We'll download the full day\n",
    "delDates = endDateDwnld - startDateDwnld\n",
    "if delDates.days < 1:\n",
    "    loopDays = 1\n",
    "else:\n",
    "    loopDays = delDates.days\n",
    "for ld in range(loopDays + 1):\n",
    "    # get the timestamp of each date\n",
    "    currDate = startDateDwnld + datetime.timedelta(days=ld)\n",
    "    currTimestamp = calendar.timegm(currDate.timetuple())\n",
    "    # We'll do a urlencode\n",
    "    urlDictSatA = { 'cli' : 'GEO RBSP_A ' + \\\n",
    "                   str(currTimestamp) + ' 86400 -hdr -r' }\n",
    "    urlDictSatB = { 'cli' : 'GEO RBSP_B ' + \\\n",
    "                   str(currTimestamp) + ' 86400 -hdr -r' }\n",
    "    currUrlSatA = baseUrl + urllib.urlencode(urlDictSatA)\n",
    "    currUrlSatB = baseUrl + urllib.urlencode(urlDictSatB)\n",
    "    # Get data in a DF for both SAT-A and SAT-B\n",
    "    # We'll get datetime in python datetime format\n",
    "    # Its easy to manage things that way!\n",
    "    reqObj = requests.get(currUrlSatA).content\n",
    "    currDFSatA = pandas.read_csv( \\\n",
    "                        io.StringIO(reqObj.decode('utf-8')),\\\n",
    "                        delim_whitespace=True,\\\n",
    "                        parse_dates=[[0, 1, 2, 3, 4, 5]], \\\n",
    "                        date_parser=lambda *columns: datetime.datetime(*map(int, columns) ) )\n",
    "    currDFSatA.columns = [ \"datetime\", \"alt\", \"lat\", \"lon\" ]\n",
    "    currDFSatA[\"dateStr\"] = [ x.strftime(\"%Y%m%d\") for x in currDFSatA[\"datetime\"] ]\n",
    "    currDFSatA[\"timeStr\"] = [ x.strftime(\"%H%M\") for x in currDFSatA[\"datetime\"] ]\n",
    "    reqObj = requests.get(currUrlSatB).content\n",
    "    currDFSatB = pandas.read_csv( \\\n",
    "                        io.StringIO(reqObj.decode('utf-8')),\\\n",
    "                        delim_whitespace=True, \\\n",
    "                        parse_dates=[[0, 1, 2, 3, 4, 5]], \\\n",
    "                        date_parser=lambda *columns: datetime.datetime(*map(int, columns) ) )\n",
    "    currDFSatB.columns = [ \"datetime\", \"alt\", \"lat\", \"lon\" ]\n",
    "    currDFSatB[\"dateStr\"] = [ x.strftime(\"%Y%m%d\") for x in currDFSatB[\"datetime\"] ]\n",
    "    currDFSatB[\"timeStr\"] = [ x.strftime(\"%H%M\") for x in currDFSatB[\"datetime\"] ]\n",
    "    \n",
    "    # Append the data in a text file\n",
    "    with open(opFileSatA, 'a') as opfA:\n",
    "        currDFSatA.to_csv(opfA, header=False,\\\n",
    "                          index=False, sep=' ',\\\n",
    "                          columns=[ \"dateStr\", \"timeStr\", \"alt\", \"lat\", \"lon\" ] )\n",
    "    with open(opFileSatB, 'a') as opfB:\n",
    "        currDFSatB.to_csv(opfB, header=False,\\\n",
    "                          index=False, sep=' ',\\\n",
    "                          columns=[ \"dateStr\", \"timeStr\", \"alt\", \"lat\", \"lon\" ] )"
   ]
  },
  {
   "cell_type": "code",
   "execution_count": null,
   "metadata": {
    "collapsed": true
   },
   "outputs": [],
   "source": []
  }
 ],
 "metadata": {
  "kernelspec": {
   "display_name": "Python 2",
   "language": "python",
   "name": "python2"
  },
  "language_info": {
   "codemirror_mode": {
    "name": "ipython",
    "version": 2
   },
   "file_extension": ".py",
   "mimetype": "text/x-python",
   "name": "python",
   "nbconvert_exporter": "python",
   "pygments_lexer": "ipython2",
   "version": "2.7.6"
  }
 },
 "nbformat": 4,
 "nbformat_minor": 1
}
